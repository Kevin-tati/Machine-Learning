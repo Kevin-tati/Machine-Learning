{
 "cells": [
  {
   "cell_type": "code",
   "execution_count": 1,
   "metadata": {
    "id": "klyzUfMSBtKx"
   },
   "outputs": [],
   "source": [
    "# !pip install -q scikit-learn==0.23.2 matplotlib==3.1.3 pandas==1.1.3 gensim==3.8.1 torch==1.6.0 torchvision==0.7.0"
   ]
  },
  {
   "cell_type": "code",
   "execution_count": 2,
   "metadata": {
    "colab": {
     "base_uri": "https://localhost:8080/"
    },
    "id": "jv-wFcX8CjJ6",
    "outputId": "d0b1313b-e405-48a5-de2f-e83103de1407"
   },
   "outputs": [
    {
     "name": "stdout",
     "output_type": "stream",
     "text": [
      "--2022-04-15 14:00:36--  https://moodle.u-paris.fr/pluginfile.php/512951/mod_resource/content/2/oscar.fr.300.10k.model\n",
      "Résolution de moodle.u-paris.fr (moodle.u-paris.fr)… 195.220.128.206, 195.220.128.207\n",
      "Connexion à moodle.u-paris.fr (moodle.u-paris.fr)|195.220.128.206|:443… connecté.\n",
      "requête HTTP transmise, en attente de la réponse… 200 OK\n",
      "Taille : 36565468 (35M) [text/plain]\n",
      "Sauvegarde en : « oscar.fr.300.10k.model.1 »\n",
      "\n",
      "oscar.fr.300.10k.mo 100%[===================>]  34,87M  6,98MB/s    ds 5,0s    \n",
      "\n",
      "2022-04-15 14:00:42 (6,97 MB/s) — « oscar.fr.300.10k.model.1 » sauvegardé [36565468/36565468]\n",
      "\n"
     ]
    }
   ],
   "source": [
    "!wget https://moodle.u-paris.fr/pluginfile.php/512951/mod_resource/content/2/oscar.fr.300.10k.model"
   ]
  },
  {
   "cell_type": "code",
   "execution_count": 3,
   "metadata": {
    "colab": {
     "base_uri": "https://localhost:8080/"
    },
    "id": "jl7z_VrvBycG",
    "outputId": "898029e8-4092-4dd4-f78e-095c6d557965"
   },
   "outputs": [],
   "source": [
    "from gensim.models import KeyedVectors\n",
    "from gensim.utils import tokenize\n",
    "\n",
    "from collections import Counter\n",
    "import numpy as np\n",
    "import pandas as pd\n",
    "import seaborn as sns\n",
    "import re\n",
    "from sklearn.base import BaseEstimator, TransformerMixin\n",
    "from sklearn.feature_extraction.text import TfidfVectorizer\n",
    "from sklearn.preprocessing import scale\n",
    "from sklearn.preprocessing import MinMaxScaler\n",
    "from mlxtend.plotting import plot_confusion_matrix\n",
    "from sklearn import metrics\n",
    "from sklearn.metrics import confusion_matrix\n",
    "\n",
    "import os, sys\n",
    "#sys.path.append(os.path.abspath('../../m2-data-sciences/src'))\n",
    "\n",
    "import matplotlib.pyplot as plt\n",
    "\n",
    "# set font\n",
    "plt.rcParams['font.family'] = 'sans-serif'\n",
    "plt.rcParams['font.sans-serif'] = 'Helvetica'\n",
    "\n",
    "# set the style of the axes and the text color\n",
    "plt.rcParams['axes.edgecolor']='#333F4B'\n",
    "plt.rcParams['axes.linewidth']=0.8\n",
    "plt.rcParams['xtick.color']='#333F4B'\n",
    "plt.rcParams['ytick.color']='#333F4B'\n",
    "plt.rcParams['text.color']='#333F4B'\n",
    "\n",
    "# IPython automatically reload all changed code\n",
    "%load_ext autoreload\n",
    "%autoreload 2\n",
    "\n",
    "# Inline Figures with matplotlib\n",
    "%matplotlib inline\n",
    "%config InlineBackend.figure_format='retina'"
   ]
  },
  {
   "cell_type": "code",
   "execution_count": 4,
   "metadata": {
    "id": "slKFhKmdCWiR"
   },
   "outputs": [],
   "source": [
    "w2v_model = KeyedVectors.load_word2vec_format(\"oscar.fr.300.10k.model\")\n",
    "w2v_model.init_sims(replace=True)"
   ]
  },
  {
   "cell_type": "code",
   "execution_count": 5,
   "metadata": {
    "colab": {
     "base_uri": "https://localhost:8080/"
    },
    "id": "xZNykBCtCqEw",
    "outputId": "bfd93a3c-4e66-4d6e-96e4-ce7cd77cebb5"
   },
   "outputs": [
    {
     "data": {
      "text/plain": [
       "10000"
      ]
     },
     "execution_count": 5,
     "metadata": {},
     "output_type": "execute_result"
    }
   ],
   "source": [
    "len(w2v_model.vocab.items())"
   ]
  },
  {
   "cell_type": "code",
   "execution_count": 6,
   "metadata": {
    "id": "aOJ2XZazGE0D"
   },
   "outputs": [],
   "source": [
    "# On crée un array avec les 10,000 premiers mots et on crée le dictionaire de vocabulaire\n",
    "idx2w = {i: w for (i, w) in enumerate(w2v_model.vocab)}\n",
    "w2idx = {w: i for (i, w) in enumerate(w2v_model.vocab)}\n",
    "\n",
    "embeddings_vectors = [w2v_model[w] for w in w2v_model.vocab]\n",
    "word2vec_embeddings = np.vstack(embeddings_vectors)"
   ]
  },
  {
   "cell_type": "code",
   "execution_count": 7,
   "metadata": {
    "id": "CUBtbrTJHeol"
   },
   "outputs": [],
   "source": [
    "# word2vec_embeddings"
   ]
  },
  {
   "cell_type": "code",
   "execution_count": 8,
   "metadata": {
    "colab": {
     "base_uri": "https://localhost:8080/"
    },
    "id": "vDKeQkaLGIjZ",
    "outputId": "c6885ab8-c186-4099-e145-f750bee797de"
   },
   "outputs": [
    {
     "name": "stdout",
     "output_type": "stream",
     "text": [
      "(10000, 300)\n"
     ]
    }
   ],
   "source": [
    "print(word2vec_embeddings.shape)"
   ]
  },
  {
   "cell_type": "markdown",
   "metadata": {
    "id": "LpqeizmDG-Y-"
   },
   "source": [
    "### Ouvrir le dataframe"
   ]
  },
  {
   "cell_type": "code",
   "execution_count": 111,
   "metadata": {
    "id": "vhQEA_NjHCAi"
   },
   "outputs": [],
   "source": [
    "df = pd.read_csv('/Users/princek/Desktop/IPSSI/Projet ML/emojis.csv',index_col=[0,1])"
   ]
  },
  {
   "cell_type": "code",
   "execution_count": 10,
   "metadata": {
    "colab": {
     "base_uri": "https://localhost:8080/"
    },
    "id": "Q1-zLR1iHDnI",
    "outputId": "c4ee665a-9bcb-46a3-d3b9-3e2d088947da"
   },
   "outputs": [
    {
     "name": "stdout",
     "output_type": "stream",
     "text": [
      "<class 'pandas.core.frame.DataFrame'>\n",
      "MultiIndex: 6387 entries, (1, 4) to (7370, 23195)\n",
      "Data columns (total 9 columns):\n",
      " #   Column      Non-Null Count  Dtype \n",
      "---  ------      --------------  ----- \n",
      " 0   sms         6299 non-null   object\n",
      " 1   happy       6387 non-null   bool  \n",
      " 2   joke        6387 non-null   bool  \n",
      " 3   astonished  6387 non-null   bool  \n",
      " 4   angry       6387 non-null   bool  \n",
      " 5   bored       6387 non-null   bool  \n",
      " 6   heart       6387 non-null   bool  \n",
      " 7   filter      6387 non-null   bool  \n",
      " 8   tokens      6387 non-null   object\n",
      "dtypes: bool(7), object(2)\n",
      "memory usage: 908.3+ KB\n"
     ]
    }
   ],
   "source": [
    "df.info()"
   ]
  },
  {
   "cell_type": "code",
   "execution_count": 11,
   "metadata": {
    "colab": {
     "base_uri": "https://localhost:8080/",
     "height": 420
    },
    "id": "Nygt5KrUHFWq",
    "outputId": "9a55924f-786a-490c-b339-c31e2c1d17a8"
   },
   "outputs": [
    {
     "data": {
      "text/html": [
       "<div>\n",
       "<style scoped>\n",
       "    .dataframe tbody tr th:only-of-type {\n",
       "        vertical-align: middle;\n",
       "    }\n",
       "\n",
       "    .dataframe tbody tr th {\n",
       "        vertical-align: top;\n",
       "    }\n",
       "\n",
       "    .dataframe thead th {\n",
       "        text-align: right;\n",
       "    }\n",
       "</style>\n",
       "<table border=\"1\" class=\"dataframe\">\n",
       "  <thead>\n",
       "    <tr style=\"text-align: right;\">\n",
       "      <th></th>\n",
       "      <th></th>\n",
       "      <th>sms</th>\n",
       "      <th>happy</th>\n",
       "      <th>joke</th>\n",
       "      <th>astonished</th>\n",
       "      <th>angry</th>\n",
       "      <th>bored</th>\n",
       "      <th>heart</th>\n",
       "      <th>filter</th>\n",
       "      <th>tokens</th>\n",
       "    </tr>\n",
       "    <tr>\n",
       "      <th></th>\n",
       "      <th>Unnamed: 0.1</th>\n",
       "      <th></th>\n",
       "      <th></th>\n",
       "      <th></th>\n",
       "      <th></th>\n",
       "      <th></th>\n",
       "      <th></th>\n",
       "      <th></th>\n",
       "      <th></th>\n",
       "      <th></th>\n",
       "    </tr>\n",
       "  </thead>\n",
       "  <tbody>\n",
       "    <tr>\n",
       "      <th>1</th>\n",
       "      <th>4</th>\n",
       "      <td>Oh trop mignon mon bbé jsuis au travaiiiil la</td>\n",
       "      <td>False</td>\n",
       "      <td>False</td>\n",
       "      <td>False</td>\n",
       "      <td>False</td>\n",
       "      <td>False</td>\n",
       "      <td>True</td>\n",
       "      <td>True</td>\n",
       "      <td>['Oh', 'trop', 'mignon', 'mon', 'bbé', 'jsuis'...</td>\n",
       "    </tr>\n",
       "    <tr>\n",
       "      <th>3</th>\n",
       "      <th>6</th>\n",
       "      <td>Mon cher et tendre filleul... Je m'engage a et...</td>\n",
       "      <td>False</td>\n",
       "      <td>False</td>\n",
       "      <td>False</td>\n",
       "      <td>False</td>\n",
       "      <td>False</td>\n",
       "      <td>True</td>\n",
       "      <td>True</td>\n",
       "      <td>['Mon', 'cher', 'et', 'tendre', 'filleul', '.....</td>\n",
       "    </tr>\n",
       "    <tr>\n",
       "      <th>4</th>\n",
       "      <th>7</th>\n",
       "      <td>Ohhhhhh non ! Héhé j'te texto en mode scred mo...</td>\n",
       "      <td>False</td>\n",
       "      <td>False</td>\n",
       "      <td>False</td>\n",
       "      <td>False</td>\n",
       "      <td>False</td>\n",
       "      <td>True</td>\n",
       "      <td>True</td>\n",
       "      <td>['Ohhhhhh', 'non', '!', 'Héhé', \"j'\", 'te', 't...</td>\n",
       "    </tr>\n",
       "    <tr>\n",
       "      <th>6</th>\n",
       "      <th>11</th>\n",
       "      <td>Non chez mon arriere grand mere juste a coté d...</td>\n",
       "      <td>False</td>\n",
       "      <td>True</td>\n",
       "      <td>False</td>\n",
       "      <td>False</td>\n",
       "      <td>False</td>\n",
       "      <td>False</td>\n",
       "      <td>True</td>\n",
       "      <td>['Non', 'chez', 'mon', 'arriere', 'grand', 'me...</td>\n",
       "    </tr>\n",
       "    <tr>\n",
       "      <th>7</th>\n",
       "      <th>14</th>\n",
       "      <td>Demain jai deux heures de pause si tu veux on ...</td>\n",
       "      <td>False</td>\n",
       "      <td>True</td>\n",
       "      <td>False</td>\n",
       "      <td>False</td>\n",
       "      <td>False</td>\n",
       "      <td>False</td>\n",
       "      <td>True</td>\n",
       "      <td>['Demain', 'jai', 'deux', 'heures', 'de', 'pau...</td>\n",
       "    </tr>\n",
       "  </tbody>\n",
       "</table>\n",
       "</div>"
      ],
      "text/plain": [
       "                                                              sms  happy  \\\n",
       "  Unnamed: 0.1                                                             \n",
       "1 4                 Oh trop mignon mon bbé jsuis au travaiiiil la  False   \n",
       "3 6             Mon cher et tendre filleul... Je m'engage a et...  False   \n",
       "4 7             Ohhhhhh non ! Héhé j'te texto en mode scred mo...  False   \n",
       "6 11            Non chez mon arriere grand mere juste a coté d...  False   \n",
       "7 14            Demain jai deux heures de pause si tu veux on ...  False   \n",
       "\n",
       "                 joke  astonished  angry  bored  heart  filter  \\\n",
       "  Unnamed: 0.1                                                   \n",
       "1 4             False       False  False  False   True    True   \n",
       "3 6             False       False  False  False   True    True   \n",
       "4 7             False       False  False  False   True    True   \n",
       "6 11             True       False  False  False  False    True   \n",
       "7 14             True       False  False  False  False    True   \n",
       "\n",
       "                                                           tokens  \n",
       "  Unnamed: 0.1                                                     \n",
       "1 4             ['Oh', 'trop', 'mignon', 'mon', 'bbé', 'jsuis'...  \n",
       "3 6             ['Mon', 'cher', 'et', 'tendre', 'filleul', '.....  \n",
       "4 7             ['Ohhhhhh', 'non', '!', 'Héhé', \"j'\", 'te', 't...  \n",
       "6 11            ['Non', 'chez', 'mon', 'arriere', 'grand', 'me...  \n",
       "7 14            ['Demain', 'jai', 'deux', 'heures', 'de', 'pau...  "
      ]
     },
     "execution_count": 11,
     "metadata": {},
     "output_type": "execute_result"
    }
   ],
   "source": [
    "df.head()"
   ]
  },
  {
   "cell_type": "code",
   "execution_count": 12,
   "metadata": {
    "colab": {
     "base_uri": "https://localhost:8080/"
    },
    "id": "v2BEdP2LjKXc",
    "outputId": "f843ab9d-8b69-46d0-9ea5-f9abdcaa2573"
   },
   "outputs": [
    {
     "data": {
      "text/plain": [
       "MultiIndex([(   1,     4),\n",
       "            (   3,     6),\n",
       "            (   4,     7),\n",
       "            (   6,    11),\n",
       "            (   7,    14),\n",
       "            (  10,    21),\n",
       "            (  11,    23),\n",
       "            (  12,    24),\n",
       "            (  13,    25),\n",
       "            (  14,    27),\n",
       "            ...\n",
       "            (7359, 23170),\n",
       "            (7360, 23171),\n",
       "            (7361, 23174),\n",
       "            (7363, 23177),\n",
       "            (7365, 23182),\n",
       "            (7366, 23183),\n",
       "            (7367, 23184),\n",
       "            (7368, 23186),\n",
       "            (7369, 23193),\n",
       "            (7370, 23195)],\n",
       "           names=[None, 'Unnamed: 0.1'], length=6387)"
      ]
     },
     "execution_count": 12,
     "metadata": {},
     "output_type": "execute_result"
    }
   ],
   "source": [
    "df.index"
   ]
  },
  {
   "cell_type": "code",
   "execution_count": 13,
   "metadata": {
    "colab": {
     "base_uri": "https://localhost:8080/"
    },
    "id": "rEdcze8Cky_e",
    "outputId": "e32d0850-e2b0-4e53-8bbe-d38028f7a59b"
   },
   "outputs": [
    {
     "data": {
      "text/plain": [
       "sms           88\n",
       "happy          0\n",
       "joke           0\n",
       "astonished     0\n",
       "angry          0\n",
       "bored          0\n",
       "heart          0\n",
       "filter         0\n",
       "tokens         0\n",
       "dtype: int64"
      ]
     },
     "execution_count": 13,
     "metadata": {},
     "output_type": "execute_result"
    }
   ],
   "source": [
    "df.isnull().sum()"
   ]
  },
  {
   "cell_type": "code",
   "execution_count": 14,
   "metadata": {
    "id": "xIY6G4g5lLAf"
   },
   "outputs": [],
   "source": [
    "df=df.dropna()"
   ]
  },
  {
   "cell_type": "code",
   "execution_count": 15,
   "metadata": {
    "id": "Kgj5fUPeHMyV"
   },
   "outputs": [],
   "source": [
    "df = df.drop(['tokens'], axis = 1)"
   ]
  },
  {
   "cell_type": "code",
   "execution_count": 16,
   "metadata": {
    "colab": {
     "base_uri": "https://localhost:8080/",
     "height": 316
    },
    "id": "4d8kTiykIyLl",
    "outputId": "a6ebadcd-e492-4846-df0b-a00482d2ca6f"
   },
   "outputs": [
    {
     "data": {
      "text/html": [
       "<div>\n",
       "<style scoped>\n",
       "    .dataframe tbody tr th:only-of-type {\n",
       "        vertical-align: middle;\n",
       "    }\n",
       "\n",
       "    .dataframe tbody tr th {\n",
       "        vertical-align: top;\n",
       "    }\n",
       "\n",
       "    .dataframe thead th {\n",
       "        text-align: right;\n",
       "    }\n",
       "</style>\n",
       "<table border=\"1\" class=\"dataframe\">\n",
       "  <thead>\n",
       "    <tr style=\"text-align: right;\">\n",
       "      <th></th>\n",
       "      <th></th>\n",
       "      <th>sms</th>\n",
       "      <th>happy</th>\n",
       "      <th>joke</th>\n",
       "      <th>astonished</th>\n",
       "      <th>angry</th>\n",
       "      <th>bored</th>\n",
       "      <th>heart</th>\n",
       "      <th>filter</th>\n",
       "    </tr>\n",
       "    <tr>\n",
       "      <th></th>\n",
       "      <th>Unnamed: 0.1</th>\n",
       "      <th></th>\n",
       "      <th></th>\n",
       "      <th></th>\n",
       "      <th></th>\n",
       "      <th></th>\n",
       "      <th></th>\n",
       "      <th></th>\n",
       "      <th></th>\n",
       "    </tr>\n",
       "  </thead>\n",
       "  <tbody>\n",
       "    <tr>\n",
       "      <th>1</th>\n",
       "      <th>4</th>\n",
       "      <td>Oh trop mignon mon bbé jsuis au travaiiiil la</td>\n",
       "      <td>False</td>\n",
       "      <td>False</td>\n",
       "      <td>False</td>\n",
       "      <td>False</td>\n",
       "      <td>False</td>\n",
       "      <td>True</td>\n",
       "      <td>True</td>\n",
       "    </tr>\n",
       "    <tr>\n",
       "      <th>3</th>\n",
       "      <th>6</th>\n",
       "      <td>Mon cher et tendre filleul... Je m'engage a et...</td>\n",
       "      <td>False</td>\n",
       "      <td>False</td>\n",
       "      <td>False</td>\n",
       "      <td>False</td>\n",
       "      <td>False</td>\n",
       "      <td>True</td>\n",
       "      <td>True</td>\n",
       "    </tr>\n",
       "    <tr>\n",
       "      <th>4</th>\n",
       "      <th>7</th>\n",
       "      <td>Ohhhhhh non ! Héhé j'te texto en mode scred mo...</td>\n",
       "      <td>False</td>\n",
       "      <td>False</td>\n",
       "      <td>False</td>\n",
       "      <td>False</td>\n",
       "      <td>False</td>\n",
       "      <td>True</td>\n",
       "      <td>True</td>\n",
       "    </tr>\n",
       "    <tr>\n",
       "      <th>6</th>\n",
       "      <th>11</th>\n",
       "      <td>Non chez mon arriere grand mere juste a coté d...</td>\n",
       "      <td>False</td>\n",
       "      <td>True</td>\n",
       "      <td>False</td>\n",
       "      <td>False</td>\n",
       "      <td>False</td>\n",
       "      <td>False</td>\n",
       "      <td>True</td>\n",
       "    </tr>\n",
       "    <tr>\n",
       "      <th>7</th>\n",
       "      <th>14</th>\n",
       "      <td>Demain jai deux heures de pause si tu veux on ...</td>\n",
       "      <td>False</td>\n",
       "      <td>True</td>\n",
       "      <td>False</td>\n",
       "      <td>False</td>\n",
       "      <td>False</td>\n",
       "      <td>False</td>\n",
       "      <td>True</td>\n",
       "    </tr>\n",
       "  </tbody>\n",
       "</table>\n",
       "</div>"
      ],
      "text/plain": [
       "                                                              sms  happy  \\\n",
       "  Unnamed: 0.1                                                             \n",
       "1 4                 Oh trop mignon mon bbé jsuis au travaiiiil la  False   \n",
       "3 6             Mon cher et tendre filleul... Je m'engage a et...  False   \n",
       "4 7             Ohhhhhh non ! Héhé j'te texto en mode scred mo...  False   \n",
       "6 11            Non chez mon arriere grand mere juste a coté d...  False   \n",
       "7 14            Demain jai deux heures de pause si tu veux on ...  False   \n",
       "\n",
       "                 joke  astonished  angry  bored  heart  filter  \n",
       "  Unnamed: 0.1                                                  \n",
       "1 4             False       False  False  False   True    True  \n",
       "3 6             False       False  False  False   True    True  \n",
       "4 7             False       False  False  False   True    True  \n",
       "6 11             True       False  False  False  False    True  \n",
       "7 14             True       False  False  False  False    True  "
      ]
     },
     "execution_count": 16,
     "metadata": {},
     "output_type": "execute_result"
    }
   ],
   "source": [
    "df.head()"
   ]
  },
  {
   "cell_type": "code",
   "execution_count": 17,
   "metadata": {
    "colab": {
     "base_uri": "https://localhost:8080/"
    },
    "id": "aMefJmLDI3IR",
    "outputId": "4b73c745-2621-4877-99b4-a8575fcb9a93"
   },
   "outputs": [
    {
     "data": {
      "text/plain": [
       "(6299, 8)"
      ]
     },
     "execution_count": 17,
     "metadata": {},
     "output_type": "execute_result"
    }
   ],
   "source": [
    "df.shape"
   ]
  },
  {
   "cell_type": "code",
   "execution_count": 18,
   "metadata": {
    "id": "7gcjrzGmI8g7"
   },
   "outputs": [],
   "source": [
    "classes = ['happy', 'joke', 'angry', 'heart']"
   ]
  },
  {
   "cell_type": "code",
   "execution_count": 19,
   "metadata": {
    "colab": {
     "base_uri": "https://localhost:8080/"
    },
    "id": "OZYJ2uoWrUpY",
    "outputId": "d56d2fe5-bdaf-41a7-dd81-a769412a834d"
   },
   "outputs": [
    {
     "data": {
      "text/plain": [
       "sms           0\n",
       "happy         0\n",
       "joke          0\n",
       "astonished    0\n",
       "angry         0\n",
       "bored         0\n",
       "heart         0\n",
       "filter        0\n",
       "dtype: int64"
      ]
     },
     "execution_count": 19,
     "metadata": {},
     "output_type": "execute_result"
    }
   ],
   "source": [
    "df.isnull().sum(axis=0)"
   ]
  },
  {
   "cell_type": "code",
   "execution_count": 20,
   "metadata": {
    "colab": {
     "base_uri": "https://localhost:8080/"
    },
    "id": "LL5mJP1OI_Ha",
    "outputId": "d019af20-6ef2-411e-b1a3-0a855d3a7519"
   },
   "outputs": [
    {
     "data": {
      "text/plain": [
       "0"
      ]
     },
     "execution_count": 20,
     "metadata": {},
     "output_type": "execute_result"
    }
   ],
   "source": [
    "df['sms'].isnull().sum(axis = 0)"
   ]
  },
  {
   "cell_type": "code",
   "execution_count": 21,
   "metadata": {
    "colab": {
     "base_uri": "https://localhost:8080/"
    },
    "id": "KvrH_zMnsji1",
    "outputId": "cfb38e35-ea4c-40fd-cc1d-73a6eb1ceee5"
   },
   "outputs": [
    {
     "data": {
      "text/plain": [
       "sms           0\n",
       "happy         0\n",
       "joke          0\n",
       "astonished    0\n",
       "angry         0\n",
       "bored         0\n",
       "heart         0\n",
       "filter        0\n",
       "dtype: int64"
      ]
     },
     "execution_count": 21,
     "metadata": {},
     "output_type": "execute_result"
    }
   ],
   "source": [
    "df.isnull().sum(axis=0)"
   ]
  },
  {
   "cell_type": "code",
   "execution_count": 22,
   "metadata": {
    "colab": {
     "base_uri": "https://localhost:8080/",
     "height": 316
    },
    "id": "oGb5NRidsr4L",
    "outputId": "b988a19b-a9b1-472e-c847-2d186e4c9c36"
   },
   "outputs": [
    {
     "data": {
      "text/html": [
       "<div>\n",
       "<style scoped>\n",
       "    .dataframe tbody tr th:only-of-type {\n",
       "        vertical-align: middle;\n",
       "    }\n",
       "\n",
       "    .dataframe tbody tr th {\n",
       "        vertical-align: top;\n",
       "    }\n",
       "\n",
       "    .dataframe thead th {\n",
       "        text-align: right;\n",
       "    }\n",
       "</style>\n",
       "<table border=\"1\" class=\"dataframe\">\n",
       "  <thead>\n",
       "    <tr style=\"text-align: right;\">\n",
       "      <th></th>\n",
       "      <th></th>\n",
       "      <th>sms</th>\n",
       "      <th>happy</th>\n",
       "      <th>joke</th>\n",
       "      <th>astonished</th>\n",
       "      <th>angry</th>\n",
       "      <th>bored</th>\n",
       "      <th>heart</th>\n",
       "      <th>filter</th>\n",
       "    </tr>\n",
       "    <tr>\n",
       "      <th></th>\n",
       "      <th>Unnamed: 0.1</th>\n",
       "      <th></th>\n",
       "      <th></th>\n",
       "      <th></th>\n",
       "      <th></th>\n",
       "      <th></th>\n",
       "      <th></th>\n",
       "      <th></th>\n",
       "      <th></th>\n",
       "    </tr>\n",
       "  </thead>\n",
       "  <tbody>\n",
       "    <tr>\n",
       "      <th>1</th>\n",
       "      <th>4</th>\n",
       "      <td>Oh trop mignon mon bbé jsuis au travaiiiil la</td>\n",
       "      <td>False</td>\n",
       "      <td>False</td>\n",
       "      <td>False</td>\n",
       "      <td>False</td>\n",
       "      <td>False</td>\n",
       "      <td>True</td>\n",
       "      <td>True</td>\n",
       "    </tr>\n",
       "    <tr>\n",
       "      <th>3</th>\n",
       "      <th>6</th>\n",
       "      <td>Mon cher et tendre filleul... Je m'engage a et...</td>\n",
       "      <td>False</td>\n",
       "      <td>False</td>\n",
       "      <td>False</td>\n",
       "      <td>False</td>\n",
       "      <td>False</td>\n",
       "      <td>True</td>\n",
       "      <td>True</td>\n",
       "    </tr>\n",
       "    <tr>\n",
       "      <th>4</th>\n",
       "      <th>7</th>\n",
       "      <td>Ohhhhhh non ! Héhé j'te texto en mode scred mo...</td>\n",
       "      <td>False</td>\n",
       "      <td>False</td>\n",
       "      <td>False</td>\n",
       "      <td>False</td>\n",
       "      <td>False</td>\n",
       "      <td>True</td>\n",
       "      <td>True</td>\n",
       "    </tr>\n",
       "    <tr>\n",
       "      <th>6</th>\n",
       "      <th>11</th>\n",
       "      <td>Non chez mon arriere grand mere juste a coté d...</td>\n",
       "      <td>False</td>\n",
       "      <td>True</td>\n",
       "      <td>False</td>\n",
       "      <td>False</td>\n",
       "      <td>False</td>\n",
       "      <td>False</td>\n",
       "      <td>True</td>\n",
       "    </tr>\n",
       "    <tr>\n",
       "      <th>7</th>\n",
       "      <th>14</th>\n",
       "      <td>Demain jai deux heures de pause si tu veux on ...</td>\n",
       "      <td>False</td>\n",
       "      <td>True</td>\n",
       "      <td>False</td>\n",
       "      <td>False</td>\n",
       "      <td>False</td>\n",
       "      <td>False</td>\n",
       "      <td>True</td>\n",
       "    </tr>\n",
       "  </tbody>\n",
       "</table>\n",
       "</div>"
      ],
      "text/plain": [
       "                                                              sms  happy  \\\n",
       "  Unnamed: 0.1                                                             \n",
       "1 4                 Oh trop mignon mon bbé jsuis au travaiiiil la  False   \n",
       "3 6             Mon cher et tendre filleul... Je m'engage a et...  False   \n",
       "4 7             Ohhhhhh non ! Héhé j'te texto en mode scred mo...  False   \n",
       "6 11            Non chez mon arriere grand mere juste a coté d...  False   \n",
       "7 14            Demain jai deux heures de pause si tu veux on ...  False   \n",
       "\n",
       "                 joke  astonished  angry  bored  heart  filter  \n",
       "  Unnamed: 0.1                                                  \n",
       "1 4             False       False  False  False   True    True  \n",
       "3 6             False       False  False  False   True    True  \n",
       "4 7             False       False  False  False   True    True  \n",
       "6 11             True       False  False  False  False    True  \n",
       "7 14             True       False  False  False  False    True  "
      ]
     },
     "execution_count": 22,
     "metadata": {},
     "output_type": "execute_result"
    }
   ],
   "source": [
    "df.head()"
   ]
  },
  {
   "cell_type": "code",
   "execution_count": 23,
   "metadata": {
    "colab": {
     "base_uri": "https://localhost:8080/"
    },
    "id": "iHoVK8OYK7AW",
    "outputId": "00e614b2-7fa4-49b9-f325-f38d4bf041d2"
   },
   "outputs": [
    {
     "name": "stdout",
     "output_type": "stream",
     "text": [
      "(6299, 8)\n"
     ]
    }
   ],
   "source": [
    "print(df.shape)"
   ]
  },
  {
   "cell_type": "code",
   "execution_count": 24,
   "metadata": {
    "id": "Oc_LbJY8L_bV"
   },
   "outputs": [],
   "source": [
    "df['tokens'] = df['sms'].apply(lambda x:list(tokenize(x)))\n"
   ]
  },
  {
   "cell_type": "code",
   "execution_count": 25,
   "metadata": {
    "colab": {
     "base_uri": "https://localhost:8080/",
     "height": 455
    },
    "id": "Lgoa-rLQMC8A",
    "outputId": "f0f97bac-c9c5-48f0-b265-f5d6cb5785ad"
   },
   "outputs": [
    {
     "data": {
      "text/html": [
       "<div>\n",
       "<style scoped>\n",
       "    .dataframe tbody tr th:only-of-type {\n",
       "        vertical-align: middle;\n",
       "    }\n",
       "\n",
       "    .dataframe tbody tr th {\n",
       "        vertical-align: top;\n",
       "    }\n",
       "\n",
       "    .dataframe thead th {\n",
       "        text-align: right;\n",
       "    }\n",
       "</style>\n",
       "<table border=\"1\" class=\"dataframe\">\n",
       "  <thead>\n",
       "    <tr style=\"text-align: right;\">\n",
       "      <th></th>\n",
       "      <th></th>\n",
       "      <th>sms</th>\n",
       "      <th>happy</th>\n",
       "      <th>joke</th>\n",
       "      <th>astonished</th>\n",
       "      <th>angry</th>\n",
       "      <th>bored</th>\n",
       "      <th>heart</th>\n",
       "      <th>filter</th>\n",
       "      <th>tokens</th>\n",
       "    </tr>\n",
       "    <tr>\n",
       "      <th></th>\n",
       "      <th>Unnamed: 0.1</th>\n",
       "      <th></th>\n",
       "      <th></th>\n",
       "      <th></th>\n",
       "      <th></th>\n",
       "      <th></th>\n",
       "      <th></th>\n",
       "      <th></th>\n",
       "      <th></th>\n",
       "      <th></th>\n",
       "    </tr>\n",
       "  </thead>\n",
       "  <tbody>\n",
       "    <tr>\n",
       "      <th>1</th>\n",
       "      <th>4</th>\n",
       "      <td>Oh trop mignon mon bbé jsuis au travaiiiil la</td>\n",
       "      <td>False</td>\n",
       "      <td>False</td>\n",
       "      <td>False</td>\n",
       "      <td>False</td>\n",
       "      <td>False</td>\n",
       "      <td>True</td>\n",
       "      <td>True</td>\n",
       "      <td>[Oh, trop, mignon, mon, bbé, jsuis, au, travai...</td>\n",
       "    </tr>\n",
       "    <tr>\n",
       "      <th>3</th>\n",
       "      <th>6</th>\n",
       "      <td>Mon cher et tendre filleul... Je m'engage a et...</td>\n",
       "      <td>False</td>\n",
       "      <td>False</td>\n",
       "      <td>False</td>\n",
       "      <td>False</td>\n",
       "      <td>False</td>\n",
       "      <td>True</td>\n",
       "      <td>True</td>\n",
       "      <td>[Mon, cher, et, tendre, filleul, Je, m, engage...</td>\n",
       "    </tr>\n",
       "    <tr>\n",
       "      <th>4</th>\n",
       "      <th>7</th>\n",
       "      <td>Ohhhhhh non ! Héhé j'te texto en mode scred mo...</td>\n",
       "      <td>False</td>\n",
       "      <td>False</td>\n",
       "      <td>False</td>\n",
       "      <td>False</td>\n",
       "      <td>False</td>\n",
       "      <td>True</td>\n",
       "      <td>True</td>\n",
       "      <td>[Ohhhhhh, non, Héhé, j, te, texto, en, mode, s...</td>\n",
       "    </tr>\n",
       "    <tr>\n",
       "      <th>6</th>\n",
       "      <th>11</th>\n",
       "      <td>Non chez mon arriere grand mere juste a coté d...</td>\n",
       "      <td>False</td>\n",
       "      <td>True</td>\n",
       "      <td>False</td>\n",
       "      <td>False</td>\n",
       "      <td>False</td>\n",
       "      <td>False</td>\n",
       "      <td>True</td>\n",
       "      <td>[Non, chez, mon, arriere, grand, mere, juste, ...</td>\n",
       "    </tr>\n",
       "    <tr>\n",
       "      <th>7</th>\n",
       "      <th>14</th>\n",
       "      <td>Demain jai deux heures de pause si tu veux on ...</td>\n",
       "      <td>False</td>\n",
       "      <td>True</td>\n",
       "      <td>False</td>\n",
       "      <td>False</td>\n",
       "      <td>False</td>\n",
       "      <td>False</td>\n",
       "      <td>True</td>\n",
       "      <td>[Demain, jai, deux, heures, de, pause, si, tu,...</td>\n",
       "    </tr>\n",
       "  </tbody>\n",
       "</table>\n",
       "</div>"
      ],
      "text/plain": [
       "                                                              sms  happy  \\\n",
       "  Unnamed: 0.1                                                             \n",
       "1 4                 Oh trop mignon mon bbé jsuis au travaiiiil la  False   \n",
       "3 6             Mon cher et tendre filleul... Je m'engage a et...  False   \n",
       "4 7             Ohhhhhh non ! Héhé j'te texto en mode scred mo...  False   \n",
       "6 11            Non chez mon arriere grand mere juste a coté d...  False   \n",
       "7 14            Demain jai deux heures de pause si tu veux on ...  False   \n",
       "\n",
       "                 joke  astonished  angry  bored  heart  filter  \\\n",
       "  Unnamed: 0.1                                                   \n",
       "1 4             False       False  False  False   True    True   \n",
       "3 6             False       False  False  False   True    True   \n",
       "4 7             False       False  False  False   True    True   \n",
       "6 11             True       False  False  False  False    True   \n",
       "7 14             True       False  False  False  False    True   \n",
       "\n",
       "                                                           tokens  \n",
       "  Unnamed: 0.1                                                     \n",
       "1 4             [Oh, trop, mignon, mon, bbé, jsuis, au, travai...  \n",
       "3 6             [Mon, cher, et, tendre, filleul, Je, m, engage...  \n",
       "4 7             [Ohhhhhh, non, Héhé, j, te, texto, en, mode, s...  \n",
       "6 11            [Non, chez, mon, arriere, grand, mere, juste, ...  \n",
       "7 14            [Demain, jai, deux, heures, de, pause, si, tu,...  "
      ]
     },
     "execution_count": 25,
     "metadata": {},
     "output_type": "execute_result"
    }
   ],
   "source": [
    "df.head()"
   ]
  },
  {
   "cell_type": "code",
   "execution_count": 112,
   "metadata": {},
   "outputs": [
    {
     "data": {
      "image/png": "[encoded data removed]",
      "text/plain": [
       "<Figure size 432x288 with 1 Axes>"
      ]
     },
     "metadata": {
      "image/png": {
       "height": 301,
       "width": 378
      },
      "needs_background": "light"
     },
     "output_type": "display_data"
    }
   ],
   "source": [
    "df[[\"happy\", \"joke\", \"angry\",\"astonished\" ,\"heart\",\"bored\"]].sum().plot.bar(color='#16b8b5', title=\"dataset distribution\");"
   ]
  },
  {
   "cell_type": "markdown",
   "metadata": {
    "id": "EA17emMSMYY7"
   },
   "source": [
    "### EDA"
   ]
  },
  {
   "cell_type": "code",
   "execution_count": 26,
   "metadata": {
    "colab": {
     "base_uri": "https://localhost:8080/",
     "height": 302
    },
    "id": "uVQF5EOcMZz-",
    "outputId": "6be4eea7-e702-4c5e-821a-2cbe45e2b1b2"
   },
   "outputs": [
    {
     "data": {
      "image/png": "[encoded data removed]",
      "text/plain": [
       "<Figure size 432x288 with 1 Axes>"
      ]
     },
     "metadata": {
      "image/png": {
       "height": 280,
       "width": 378
      },
      "needs_background": "light"
     },
     "output_type": "display_data"
    }
   ],
   "source": [
    "#Le distribution des classes\n",
    "df[[\"happy\", \"joke\", \"angry\", \"heart\"]].sum().plot.bar(color='#16b8b5', title=\"dataset distribution\");"
   ]
  },
  {
   "cell_type": "code",
   "execution_count": 27,
   "metadata": {
    "colab": {
     "base_uri": "https://localhost:8080/"
    },
    "id": "SUVxoOQpom37",
    "outputId": "b479f2c8-d6af-4c53-e885-d909c02e7720"
   },
   "outputs": [
    {
     "data": {
      "text/plain": [
       "334"
      ]
     },
     "execution_count": 27,
     "metadata": {},
     "output_type": "execute_result"
    }
   ],
   "source": [
    "df.bored.sort_values().sum()"
   ]
  },
  {
   "cell_type": "code",
   "execution_count": 28,
   "metadata": {
    "id": "H3XN7sDlpJc2"
   },
   "outputs": [],
   "source": [
    "query=df.bored!=1\n",
    "df=df[query]"
   ]
  },
  {
   "cell_type": "code",
   "execution_count": 29,
   "metadata": {
    "id": "kcFk66ySry3x"
   },
   "outputs": [],
   "source": [
    "query=df.astonished!=1\n",
    "df=df[query]"
   ]
  },
  {
   "cell_type": "code",
   "execution_count": 30,
   "metadata": {
    "colab": {
     "base_uri": "https://localhost:8080/"
    },
    "id": "W45QEw3arygN",
    "outputId": "59553994-f219-4dea-8c31-26463bb2326d"
   },
   "outputs": [
    {
     "data": {
      "text/plain": [
       "(5725, 9)"
      ]
     },
     "execution_count": 30,
     "metadata": {},
     "output_type": "execute_result"
    }
   ],
   "source": [
    "df.shape"
   ]
  },
  {
   "cell_type": "code",
   "execution_count": 31,
   "metadata": {
    "colab": {
     "base_uri": "https://localhost:8080/",
     "height": 455
    },
    "id": "tRht4wAxryZE",
    "outputId": "eccc62a5-584d-40d4-e315-c36dbe84399e"
   },
   "outputs": [
    {
     "data": {
      "text/html": [
       "<div>\n",
       "<style scoped>\n",
       "    .dataframe tbody tr th:only-of-type {\n",
       "        vertical-align: middle;\n",
       "    }\n",
       "\n",
       "    .dataframe tbody tr th {\n",
       "        vertical-align: top;\n",
       "    }\n",
       "\n",
       "    .dataframe thead th {\n",
       "        text-align: right;\n",
       "    }\n",
       "</style>\n",
       "<table border=\"1\" class=\"dataframe\">\n",
       "  <thead>\n",
       "    <tr style=\"text-align: right;\">\n",
       "      <th></th>\n",
       "      <th></th>\n",
       "      <th>sms</th>\n",
       "      <th>happy</th>\n",
       "      <th>joke</th>\n",
       "      <th>astonished</th>\n",
       "      <th>angry</th>\n",
       "      <th>bored</th>\n",
       "      <th>heart</th>\n",
       "      <th>filter</th>\n",
       "      <th>tokens</th>\n",
       "    </tr>\n",
       "    <tr>\n",
       "      <th></th>\n",
       "      <th>Unnamed: 0.1</th>\n",
       "      <th></th>\n",
       "      <th></th>\n",
       "      <th></th>\n",
       "      <th></th>\n",
       "      <th></th>\n",
       "      <th></th>\n",
       "      <th></th>\n",
       "      <th></th>\n",
       "      <th></th>\n",
       "    </tr>\n",
       "  </thead>\n",
       "  <tbody>\n",
       "    <tr>\n",
       "      <th>1</th>\n",
       "      <th>4</th>\n",
       "      <td>Oh trop mignon mon bbé jsuis au travaiiiil la</td>\n",
       "      <td>False</td>\n",
       "      <td>False</td>\n",
       "      <td>False</td>\n",
       "      <td>False</td>\n",
       "      <td>False</td>\n",
       "      <td>True</td>\n",
       "      <td>True</td>\n",
       "      <td>[Oh, trop, mignon, mon, bbé, jsuis, au, travai...</td>\n",
       "    </tr>\n",
       "    <tr>\n",
       "      <th>3</th>\n",
       "      <th>6</th>\n",
       "      <td>Mon cher et tendre filleul... Je m'engage a et...</td>\n",
       "      <td>False</td>\n",
       "      <td>False</td>\n",
       "      <td>False</td>\n",
       "      <td>False</td>\n",
       "      <td>False</td>\n",
       "      <td>True</td>\n",
       "      <td>True</td>\n",
       "      <td>[Mon, cher, et, tendre, filleul, Je, m, engage...</td>\n",
       "    </tr>\n",
       "    <tr>\n",
       "      <th>4</th>\n",
       "      <th>7</th>\n",
       "      <td>Ohhhhhh non ! Héhé j'te texto en mode scred mo...</td>\n",
       "      <td>False</td>\n",
       "      <td>False</td>\n",
       "      <td>False</td>\n",
       "      <td>False</td>\n",
       "      <td>False</td>\n",
       "      <td>True</td>\n",
       "      <td>True</td>\n",
       "      <td>[Ohhhhhh, non, Héhé, j, te, texto, en, mode, s...</td>\n",
       "    </tr>\n",
       "    <tr>\n",
       "      <th>6</th>\n",
       "      <th>11</th>\n",
       "      <td>Non chez mon arriere grand mere juste a coté d...</td>\n",
       "      <td>False</td>\n",
       "      <td>True</td>\n",
       "      <td>False</td>\n",
       "      <td>False</td>\n",
       "      <td>False</td>\n",
       "      <td>False</td>\n",
       "      <td>True</td>\n",
       "      <td>[Non, chez, mon, arriere, grand, mere, juste, ...</td>\n",
       "    </tr>\n",
       "    <tr>\n",
       "      <th>7</th>\n",
       "      <th>14</th>\n",
       "      <td>Demain jai deux heures de pause si tu veux on ...</td>\n",
       "      <td>False</td>\n",
       "      <td>True</td>\n",
       "      <td>False</td>\n",
       "      <td>False</td>\n",
       "      <td>False</td>\n",
       "      <td>False</td>\n",
       "      <td>True</td>\n",
       "      <td>[Demain, jai, deux, heures, de, pause, si, tu,...</td>\n",
       "    </tr>\n",
       "  </tbody>\n",
       "</table>\n",
       "</div>"
      ],
      "text/plain": [
       "                                                              sms  happy  \\\n",
       "  Unnamed: 0.1                                                             \n",
       "1 4                 Oh trop mignon mon bbé jsuis au travaiiiil la  False   \n",
       "3 6             Mon cher et tendre filleul... Je m'engage a et...  False   \n",
       "4 7             Ohhhhhh non ! Héhé j'te texto en mode scred mo...  False   \n",
       "6 11            Non chez mon arriere grand mere juste a coté d...  False   \n",
       "7 14            Demain jai deux heures de pause si tu veux on ...  False   \n",
       "\n",
       "                 joke  astonished  angry  bored  heart  filter  \\\n",
       "  Unnamed: 0.1                                                   \n",
       "1 4             False       False  False  False   True    True   \n",
       "3 6             False       False  False  False   True    True   \n",
       "4 7             False       False  False  False   True    True   \n",
       "6 11             True       False  False  False  False    True   \n",
       "7 14             True       False  False  False  False    True   \n",
       "\n",
       "                                                           tokens  \n",
       "  Unnamed: 0.1                                                     \n",
       "1 4             [Oh, trop, mignon, mon, bbé, jsuis, au, travai...  \n",
       "3 6             [Mon, cher, et, tendre, filleul, Je, m, engage...  \n",
       "4 7             [Ohhhhhh, non, Héhé, j, te, texto, en, mode, s...  \n",
       "6 11            [Non, chez, mon, arriere, grand, mere, juste, ...  \n",
       "7 14            [Demain, jai, deux, heures, de, pause, si, tu,...  "
      ]
     },
     "execution_count": 31,
     "metadata": {},
     "output_type": "execute_result"
    }
   ],
   "source": [
    "df.head()"
   ]
  },
  {
   "cell_type": "code",
   "execution_count": 32,
   "metadata": {
    "colab": {
     "base_uri": "https://localhost:8080/"
    },
    "id": "Wuxzm7gPp8x5",
    "outputId": "ace87d6a-d499-48e2-a458-bd843825a288"
   },
   "outputs": [
    {
     "data": {
      "text/plain": [
       "(5725, 9)"
      ]
     },
     "execution_count": 32,
     "metadata": {},
     "output_type": "execute_result"
    }
   ],
   "source": [
    "df.shape"
   ]
  },
  {
   "cell_type": "code",
   "execution_count": 33,
   "metadata": {
    "colab": {
     "base_uri": "https://localhost:8080/"
    },
    "id": "pxePkWVLsIjU",
    "outputId": "8b781d7e-06dd-4131-a8ba-97cbfe2b54e3"
   },
   "outputs": [],
   "source": [
    "df=df.drop(['astonished','bored'], 1)"
   ]
  },
  {
   "cell_type": "code",
   "execution_count": 34,
   "metadata": {
    "colab": {
     "base_uri": "https://localhost:8080/",
     "height": 239
    },
    "id": "Il4iSdc2sIuV",
    "outputId": "8b1c22f5-df1a-4576-ee9f-925eacdde31a"
   },
   "outputs": [
    {
     "data": {
      "text/html": [
       "<div>\n",
       "<style scoped>\n",
       "    .dataframe tbody tr th:only-of-type {\n",
       "        vertical-align: middle;\n",
       "    }\n",
       "\n",
       "    .dataframe tbody tr th {\n",
       "        vertical-align: top;\n",
       "    }\n",
       "\n",
       "    .dataframe thead th {\n",
       "        text-align: right;\n",
       "    }\n",
       "</style>\n",
       "<table border=\"1\" class=\"dataframe\">\n",
       "  <thead>\n",
       "    <tr style=\"text-align: right;\">\n",
       "      <th></th>\n",
       "      <th></th>\n",
       "      <th>sms</th>\n",
       "      <th>happy</th>\n",
       "      <th>joke</th>\n",
       "      <th>angry</th>\n",
       "      <th>heart</th>\n",
       "      <th>filter</th>\n",
       "      <th>tokens</th>\n",
       "    </tr>\n",
       "    <tr>\n",
       "      <th></th>\n",
       "      <th>Unnamed: 0.1</th>\n",
       "      <th></th>\n",
       "      <th></th>\n",
       "      <th></th>\n",
       "      <th></th>\n",
       "      <th></th>\n",
       "      <th></th>\n",
       "      <th></th>\n",
       "    </tr>\n",
       "  </thead>\n",
       "  <tbody>\n",
       "    <tr>\n",
       "      <th>1</th>\n",
       "      <th>4</th>\n",
       "      <td>Oh trop mignon mon bbé jsuis au travaiiiil la</td>\n",
       "      <td>False</td>\n",
       "      <td>False</td>\n",
       "      <td>False</td>\n",
       "      <td>True</td>\n",
       "      <td>True</td>\n",
       "      <td>[Oh, trop, mignon, mon, bbé, jsuis, au, travai...</td>\n",
       "    </tr>\n",
       "    <tr>\n",
       "      <th>3</th>\n",
       "      <th>6</th>\n",
       "      <td>Mon cher et tendre filleul... Je m'engage a et...</td>\n",
       "      <td>False</td>\n",
       "      <td>False</td>\n",
       "      <td>False</td>\n",
       "      <td>True</td>\n",
       "      <td>True</td>\n",
       "      <td>[Mon, cher, et, tendre, filleul, Je, m, engage...</td>\n",
       "    </tr>\n",
       "  </tbody>\n",
       "</table>\n",
       "</div>"
      ],
      "text/plain": [
       "                                                              sms  happy  \\\n",
       "  Unnamed: 0.1                                                             \n",
       "1 4                 Oh trop mignon mon bbé jsuis au travaiiiil la  False   \n",
       "3 6             Mon cher et tendre filleul... Je m'engage a et...  False   \n",
       "\n",
       "                 joke  angry  heart  filter  \\\n",
       "  Unnamed: 0.1                                \n",
       "1 4             False  False   True    True   \n",
       "3 6             False  False   True    True   \n",
       "\n",
       "                                                           tokens  \n",
       "  Unnamed: 0.1                                                     \n",
       "1 4             [Oh, trop, mignon, mon, bbé, jsuis, au, travai...  \n",
       "3 6             [Mon, cher, et, tendre, filleul, Je, m, engage...  "
      ]
     },
     "execution_count": 34,
     "metadata": {},
     "output_type": "execute_result"
    }
   ],
   "source": [
    "df.head(2)"
   ]
  },
  {
   "cell_type": "code",
   "execution_count": 35,
   "metadata": {
    "colab": {
     "base_uri": "https://localhost:8080/"
    },
    "id": "nrIMFlpRMuTK",
    "outputId": "4002777a-50bd-477e-a760-762d88bb810f"
   },
   "outputs": [
    {
     "name": "stdout",
     "output_type": "stream",
     "text": [
      "On a 85.30596955628455 % des tokens qui ont des embeddings\n"
     ]
    }
   ],
   "source": [
    "tokens_in_voc = []\n",
    "\n",
    "for sms in df['tokens']:\n",
    "    for t in sms:\n",
    "        tokens_in_voc.append(t in w2idx)\n",
    "\n",
    "print(f\"On a {sum(tokens_in_voc) / len(tokens_in_voc) * 100} % des tokens qui ont des embeddings\")"
   ]
  },
  {
   "cell_type": "markdown",
   "metadata": {
    "id": "X55SQmZRPRFo"
   },
   "source": [
    "### representer un sms par un seul embedding"
   ]
  },
  {
   "cell_type": "code",
   "execution_count": 36,
   "metadata": {
    "id": "BTGtZTmaZEvp"
   },
   "outputs": [],
   "source": [
    "class Vectorizer(BaseEstimator, TransformerMixin):\n",
    "\n",
    "    def __init__(self, agg_method='mean'):\n",
    "        self.agg_method = agg_method\n",
    "\n",
    "    def vectorize(self, tokens):\n",
    "\n",
    "        vectors = np.array([w2v_model[t] for t in tokens if t in w2v_model.vocab])\n",
    "\n",
    "        if len(vectors) == 0:\n",
    "            sentence_embedding = np.zeros_like(w2v_model['roi'])\n",
    "        elif len(vectors) == 1:\n",
    "            sentence_embedding = np.squeeze(vectors)\n",
    "        elif len(vectors) > 1:\n",
    "            if self.agg_method == 'mean':\n",
    "                sentence_embedding = np.mean(vectors, axis=0)\n",
    "            elif self.agg_method == 'max':\n",
    "                sentence_embedding = np.max(vectors, axis=0)\n",
    "            elif self.agg_method == 'sum':\n",
    "                sentence_embedding = np.sum(vectors, axis=0)\n",
    "        return sentence_embedding\n",
    "\n",
    "\n",
    "\n",
    "    def fit(self, X):\n",
    "        X = [self.vectorize(t) for t in X['tokens']]\n",
    "        X = np.array(X)\n",
    "        return X"
   ]
  },
  {
   "cell_type": "code",
   "execution_count": 37,
   "metadata": {
    "colab": {
     "base_uri": "https://localhost:8080/"
    },
    "id": "57dw87JrZE0o",
    "outputId": "230d573f-90b8-4b0b-d529-9d2fcb4624f3"
   },
   "outputs": [
    {
     "data": {
      "text/plain": [
       "(5725, 300)"
      ]
     },
     "execution_count": 37,
     "metadata": {},
     "output_type": "execute_result"
    }
   ],
   "source": [
    "vectorizer = Vectorizer(agg_method='mean')\n",
    "X = vectorizer.fit(df)\n",
    "X.shape"
   ]
  },
  {
   "cell_type": "markdown",
   "metadata": {
    "id": "vogCQb90bvzG"
   },
   "source": [
    "### Classification"
   ]
  },
  {
   "cell_type": "markdown",
   "metadata": {},
   "source": [
    "# LogisticRegression"
   ]
  },
  {
   "cell_type": "code",
   "execution_count": 39,
   "metadata": {
    "id": "M9cuWzzuZE5c"
   },
   "outputs": [],
   "source": [
    "X_train, X_test = train_test_split(\n",
    "    df, test_size=0.33, random_state=42)\n",
    "\n",
    "y_train = X_train[['happy', 'joke', 'angry', 'heart']].astype(int).values\n",
    "y_train = [x.tolist().index(1) for x in y_train]\n",
    "\n",
    "y_test = X_test[['happy', 'joke', 'angry', 'heart']].astype(int).values\n",
    "y_test = [x.tolist().index(1) for x in y_test]"
   ]
  },
  {
   "cell_type": "code",
   "execution_count": 40,
   "metadata": {
    "colab": {
     "base_uri": "https://localhost:8080/"
    },
    "id": "gCCjrTPxZE-c",
    "outputId": "dea598e2-5082-490a-a246-9d4cfc4bb347"
   },
   "outputs": [
    {
     "data": {
      "text/plain": [
       "(3835, 7)"
      ]
     },
     "execution_count": 40,
     "metadata": {},
     "output_type": "execute_result"
    }
   ],
   "source": [
    "X_train.shape"
   ]
  },
  {
   "cell_type": "code",
   "execution_count": 113,
   "metadata": {
    "colab": {
     "base_uri": "https://localhost:8080/",
     "height": 222
    },
    "id": "kjb7C_k0ZFAz",
    "outputId": "76b44222-4b19-40be-e1d1-0253de7e1532"
   },
   "outputs": [
    {
     "data": {
      "text/plain": [
       "[3,\n",
       " 2,\n",
       " 3,\n",
       " 1,\n",
       " 2,\n",
       " 1,\n",
       " 2,\n",
       " 2,\n",
       " 0,\n",
       " 1,\n",
       " 2,\n",
       " 3,\n",
       " 2,\n",
       " 1,\n",
       " 2,\n",
       " 2,\n",
       " 1,\n",
       " 1,\n",
       " 2,\n",
       " 0,\n",
       " 1,\n",
       " 1,\n",
       " 1,\n",
       " 3,\n",
       " 1,\n",
       " 2,\n",
       " 2,\n",
       " 3,\n",
       " 1,\n",
       " 0,\n",
       " 1,\n",
       " 1,\n",
       " 2,\n",
       " 2,\n",
       " 2,\n",
       " 2,\n",
       " 0,\n",
       " 0,\n",
       " 3,\n",
       " 1,\n",
       " 2,\n",
       " 0,\n",
       " 1,\n",
       " 0,\n",
       " 1,\n",
       " 1,\n",
       " 1,\n",
       " 1,\n",
       " 0,\n",
       " 0,\n",
       " 1,\n",
       " 3,\n",
       " 3,\n",
       " 2,\n",
       " 0,\n",
       " 3,\n",
       " 0,\n",
       " 2,\n",
       " 3,\n",
       " 0,\n",
       " 1,\n",
       " 3,\n",
       " 1,\n",
       " 1,\n",
       " 3,\n",
       " 1,\n",
       " 2,\n",
       " 1,\n",
       " 2,\n",
       " 2,\n",
       " 1,\n",
       " 1,\n",
       " 0,\n",
       " 2,\n",
       " 1,\n",
       " 2,\n",
       " 0,\n",
       " 0,\n",
       " 1,\n",
       " 0,\n",
       " 2,\n",
       " 0,\n",
       " 0,\n",
       " 2,\n",
       " 0,\n",
       " 3,\n",
       " 0,\n",
       " 3,\n",
       " 1,\n",
       " 1,\n",
       " 2,\n",
       " 1,\n",
       " 2,\n",
       " 1,\n",
       " 0,\n",
       " 0,\n",
       " 2,\n",
       " 2,\n",
       " 0,\n",
       " 2,\n",
       " 0,\n",
       " 1,\n",
       " 2,\n",
       " 2,\n",
       " 1,\n",
       " 0,\n",
       " 0,\n",
       " 2,\n",
       " 3,\n",
       " 0,\n",
       " 3,\n",
       " 0,\n",
       " 2,\n",
       " 0,\n",
       " 2,\n",
       " 2,\n",
       " 1,\n",
       " 2,\n",
       " 1,\n",
       " 2,\n",
       " 2,\n",
       " 1,\n",
       " 1,\n",
       " 1,\n",
       " 1,\n",
       " 0,\n",
       " 1,\n",
       " 0,\n",
       " 1,\n",
       " 2,\n",
       " 1,\n",
       " 2,\n",
       " 2,\n",
       " 1,\n",
       " 1,\n",
       " 1,\n",
       " 2,\n",
       " 1,\n",
       " 1,\n",
       " 2,\n",
       " 2,\n",
       " 1,\n",
       " 3,\n",
       " 0,\n",
       " 2,\n",
       " 0,\n",
       " 2,\n",
       " 0,\n",
       " 2,\n",
       " 3,\n",
       " 3,\n",
       " 2,\n",
       " 0,\n",
       " 1,\n",
       " 1,\n",
       " 3,\n",
       " 1,\n",
       " 0,\n",
       " 0,\n",
       " 3,\n",
       " 1,\n",
       " 3,\n",
       " 1,\n",
       " 1,\n",
       " 0,\n",
       " 1,\n",
       " 1,\n",
       " 1,\n",
       " 3,\n",
       " 3,\n",
       " 0,\n",
       " 2,\n",
       " 3,\n",
       " 1,\n",
       " 1,\n",
       " 2,\n",
       " 2,\n",
       " 2,\n",
       " 1,\n",
       " 2,\n",
       " 1,\n",
       " 1,\n",
       " 3,\n",
       " 0,\n",
       " 0,\n",
       " 0,\n",
       " 0,\n",
       " 0,\n",
       " 0,\n",
       " 2,\n",
       " 2,\n",
       " 0,\n",
       " 1,\n",
       " 1,\n",
       " 2,\n",
       " 1,\n",
       " 2,\n",
       " 1,\n",
       " 3,\n",
       " 3,\n",
       " 0,\n",
       " 1,\n",
       " 3,\n",
       " 1,\n",
       " 1,\n",
       " 0,\n",
       " 0,\n",
       " 0,\n",
       " 2,\n",
       " 3,\n",
       " 1,\n",
       " 3,\n",
       " 0,\n",
       " 0,\n",
       " 3,\n",
       " 3,\n",
       " 0,\n",
       " 2,\n",
       " 0,\n",
       " 3,\n",
       " 3,\n",
       " 0,\n",
       " 0,\n",
       " 0,\n",
       " 2,\n",
       " 3,\n",
       " 3,\n",
       " 1,\n",
       " 1,\n",
       " 2,\n",
       " 1,\n",
       " 1,\n",
       " 0,\n",
       " 1,\n",
       " 2,\n",
       " 2,\n",
       " 0,\n",
       " 1,\n",
       " 1,\n",
       " 0,\n",
       " 0,\n",
       " 1,\n",
       " 1,\n",
       " 1,\n",
       " 0,\n",
       " 2,\n",
       " 1,\n",
       " 3,\n",
       " 0,\n",
       " 1,\n",
       " 1,\n",
       " 0,\n",
       " 2,\n",
       " 0,\n",
       " 1,\n",
       " 0,\n",
       " 1,\n",
       " 0,\n",
       " 0,\n",
       " 3,\n",
       " 3,\n",
       " 0,\n",
       " 2,\n",
       " 3,\n",
       " 0,\n",
       " 3,\n",
       " 1,\n",
       " 0,\n",
       " 0,\n",
       " 2,\n",
       " 1,\n",
       " 3,\n",
       " 0,\n",
       " 0,\n",
       " 3,\n",
       " 1,\n",
       " 2,\n",
       " 3,\n",
       " 2,\n",
       " 2,\n",
       " 2,\n",
       " 3,\n",
       " 3,\n",
       " 2,\n",
       " 1,\n",
       " 2,\n",
       " 2,\n",
       " 3,\n",
       " 0,\n",
       " 2,\n",
       " 1,\n",
       " 3,\n",
       " 0,\n",
       " 2,\n",
       " 1,\n",
       " 0,\n",
       " 1,\n",
       " 1,\n",
       " 2,\n",
       " 2,\n",
       " 0,\n",
       " 2,\n",
       " 1,\n",
       " 2,\n",
       " 3,\n",
       " 3,\n",
       " 0,\n",
       " 1,\n",
       " 0,\n",
       " 1,\n",
       " 0,\n",
       " 1,\n",
       " 1,\n",
       " 1,\n",
       " 1,\n",
       " 1,\n",
       " 2,\n",
       " 2,\n",
       " 3,\n",
       " 0,\n",
       " 3,\n",
       " 1,\n",
       " 0,\n",
       " 2,\n",
       " 1,\n",
       " 2,\n",
       " 1,\n",
       " 1,\n",
       " 3,\n",
       " 0,\n",
       " 1,\n",
       " 3,\n",
       " 2,\n",
       " 2,\n",
       " 0,\n",
       " 3,\n",
       " 0,\n",
       " 2,\n",
       " 1,\n",
       " 1,\n",
       " 2,\n",
       " 0,\n",
       " 3,\n",
       " 0,\n",
       " 1,\n",
       " 0,\n",
       " 1,\n",
       " 2,\n",
       " 3,\n",
       " 1,\n",
       " 0,\n",
       " 1,\n",
       " 0,\n",
       " 0,\n",
       " 3,\n",
       " 0,\n",
       " 0,\n",
       " 0,\n",
       " 2,\n",
       " 1,\n",
       " 0,\n",
       " 1,\n",
       " 2,\n",
       " 0,\n",
       " 1,\n",
       " 2,\n",
       " 0,\n",
       " 2,\n",
       " 3,\n",
       " 0,\n",
       " 3,\n",
       " 3,\n",
       " 2,\n",
       " 3,\n",
       " 2,\n",
       " 0,\n",
       " 0,\n",
       " 2,\n",
       " 0,\n",
       " 2,\n",
       " 2,\n",
       " 3,\n",
       " 3,\n",
       " 0,\n",
       " 3,\n",
       " 0,\n",
       " 0,\n",
       " 0,\n",
       " 1,\n",
       " 1,\n",
       " 1,\n",
       " 1,\n",
       " 1,\n",
       " 1,\n",
       " 2,\n",
       " 2,\n",
       " 2,\n",
       " 0,\n",
       " 2,\n",
       " 2,\n",
       " 3,\n",
       " 3,\n",
       " 2,\n",
       " 2,\n",
       " 2,\n",
       " 3,\n",
       " 3,\n",
       " 1,\n",
       " 0,\n",
       " 1,\n",
       " 2,\n",
       " 1,\n",
       " 1,\n",
       " 3,\n",
       " 3,\n",
       " 0,\n",
       " 0,\n",
       " 0,\n",
       " 3,\n",
       " 0,\n",
       " 2,\n",
       " 0,\n",
       " 1,\n",
       " 2,\n",
       " 2,\n",
       " 0,\n",
       " 1,\n",
       " 0,\n",
       " 1,\n",
       " 2,\n",
       " 1,\n",
       " 0,\n",
       " 1,\n",
       " 1,\n",
       " 2,\n",
       " 2,\n",
       " 3,\n",
       " 1,\n",
       " 3,\n",
       " 3,\n",
       " 2,\n",
       " 0,\n",
       " 0,\n",
       " 3,\n",
       " 2,\n",
       " 1,\n",
       " 1,\n",
       " 2,\n",
       " 2,\n",
       " 2,\n",
       " 1,\n",
       " 0,\n",
       " 3,\n",
       " 1,\n",
       " 0,\n",
       " 0,\n",
       " 2,\n",
       " 1,\n",
       " 2,\n",
       " 2,\n",
       " 0,\n",
       " 1,\n",
       " 3,\n",
       " 0,\n",
       " 2,\n",
       " 1,\n",
       " 2,\n",
       " 1,\n",
       " 2,\n",
       " 2,\n",
       " 0,\n",
       " 1,\n",
       " 0,\n",
       " 2,\n",
       " 3,\n",
       " 0,\n",
       " 2,\n",
       " 0,\n",
       " 1,\n",
       " 2,\n",
       " 2,\n",
       " 3,\n",
       " 1,\n",
       " 2,\n",
       " 1,\n",
       " 3,\n",
       " 0,\n",
       " 0,\n",
       " 3,\n",
       " 1,\n",
       " 2,\n",
       " 1,\n",
       " 3,\n",
       " 1,\n",
       " 2,\n",
       " 3,\n",
       " 3,\n",
       " 3,\n",
       " 2,\n",
       " 2,\n",
       " 0,\n",
       " 3,\n",
       " 0,\n",
       " 0,\n",
       " 2,\n",
       " 2,\n",
       " 2,\n",
       " 0,\n",
       " 2,\n",
       " 2,\n",
       " 0,\n",
       " 2,\n",
       " 2,\n",
       " 1,\n",
       " 2,\n",
       " 1,\n",
       " 2,\n",
       " 3,\n",
       " 3,\n",
       " 2,\n",
       " 1,\n",
       " 2,\n",
       " 3,\n",
       " 3,\n",
       " 1,\n",
       " 0,\n",
       " 1,\n",
       " 3,\n",
       " 0,\n",
       " 2,\n",
       " 3,\n",
       " 3,\n",
       " 0,\n",
       " 2,\n",
       " 2,\n",
       " 2,\n",
       " 2,\n",
       " 0,\n",
       " 2,\n",
       " 2,\n",
       " 2,\n",
       " 1,\n",
       " 1,\n",
       " 2,\n",
       " 0,\n",
       " 3,\n",
       " 0,\n",
       " 2,\n",
       " 1,\n",
       " 1,\n",
       " 0,\n",
       " 0,\n",
       " 0,\n",
       " 0,\n",
       " 1,\n",
       " 1,\n",
       " 0,\n",
       " 2,\n",
       " 1,\n",
       " 2,\n",
       " 2,\n",
       " 1,\n",
       " 3,\n",
       " 1,\n",
       " 2,\n",
       " 2,\n",
       " 0,\n",
       " 1,\n",
       " 2,\n",
       " 1,\n",
       " 0,\n",
       " 3,\n",
       " 2,\n",
       " 1,\n",
       " 1,\n",
       " 0,\n",
       " 0,\n",
       " 2,\n",
       " 3,\n",
       " 0,\n",
       " 0,\n",
       " 0,\n",
       " 3,\n",
       " 0,\n",
       " 2,\n",
       " 2,\n",
       " 0,\n",
       " 2,\n",
       " 3,\n",
       " 3,\n",
       " 2,\n",
       " 1,\n",
       " 2,\n",
       " 1,\n",
       " 1,\n",
       " 2,\n",
       " 1,\n",
       " 3,\n",
       " 0,\n",
       " 2,\n",
       " 1,\n",
       " 2,\n",
       " 1,\n",
       " 3,\n",
       " 1,\n",
       " 2,\n",
       " 1,\n",
       " 3,\n",
       " 3,\n",
       " 0,\n",
       " 0,\n",
       " 1,\n",
       " 1,\n",
       " 1,\n",
       " 3,\n",
       " 1,\n",
       " 2,\n",
       " 0,\n",
       " 0,\n",
       " 3,\n",
       " 2,\n",
       " 1,\n",
       " 3,\n",
       " 1,\n",
       " 2,\n",
       " 1,\n",
       " 0,\n",
       " 2,\n",
       " 1,\n",
       " 1,\n",
       " 3,\n",
       " 0,\n",
       " 1,\n",
       " 1,\n",
       " 2,\n",
       " 1,\n",
       " 0,\n",
       " 0,\n",
       " 0,\n",
       " 3,\n",
       " 2,\n",
       " 2,\n",
       " 1,\n",
       " 1,\n",
       " 0,\n",
       " 0,\n",
       " 0,\n",
       " 2,\n",
       " 1,\n",
       " 0,\n",
       " 0,\n",
       " 2,\n",
       " 3,\n",
       " 0,\n",
       " 0,\n",
       " 0,\n",
       " 1,\n",
       " 2,\n",
       " 2,\n",
       " 3,\n",
       " 1,\n",
       " 0,\n",
       " 0,\n",
       " 2,\n",
       " 1,\n",
       " 2,\n",
       " 2,\n",
       " 0,\n",
       " 1,\n",
       " 1,\n",
       " 2,\n",
       " 1,\n",
       " 3,\n",
       " 3,\n",
       " 3,\n",
       " 2,\n",
       " 0,\n",
       " 2,\n",
       " 0,\n",
       " 1,\n",
       " 2,\n",
       " 2,\n",
       " 0,\n",
       " 1,\n",
       " 1,\n",
       " 1,\n",
       " 2,\n",
       " 0,\n",
       " 3,\n",
       " 1,\n",
       " 1,\n",
       " 2,\n",
       " 1,\n",
       " 3,\n",
       " 3,\n",
       " 2,\n",
       " 3,\n",
       " 1,\n",
       " 1,\n",
       " 2,\n",
       " 3,\n",
       " 0,\n",
       " 1,\n",
       " 0,\n",
       " 1,\n",
       " 3,\n",
       " 2,\n",
       " 2,\n",
       " 3,\n",
       " 1,\n",
       " 1,\n",
       " 1,\n",
       " 2,\n",
       " 1,\n",
       " 3,\n",
       " 1,\n",
       " 0,\n",
       " 1,\n",
       " 1,\n",
       " 1,\n",
       " 0,\n",
       " 3,\n",
       " 3,\n",
       " 2,\n",
       " 0,\n",
       " 2,\n",
       " 2,\n",
       " 0,\n",
       " 3,\n",
       " 0,\n",
       " 0,\n",
       " 3,\n",
       " 0,\n",
       " 1,\n",
       " 2,\n",
       " 1,\n",
       " 0,\n",
       " 0,\n",
       " 0,\n",
       " 1,\n",
       " 2,\n",
       " 2,\n",
       " 1,\n",
       " 2,\n",
       " 0,\n",
       " 1,\n",
       " 2,\n",
       " 2,\n",
       " 0,\n",
       " 2,\n",
       " 3,\n",
       " 3,\n",
       " 1,\n",
       " 2,\n",
       " 0,\n",
       " 0,\n",
       " 2,\n",
       " 2,\n",
       " 2,\n",
       " 2,\n",
       " 2,\n",
       " 0,\n",
       " 0,\n",
       " 1,\n",
       " 3,\n",
       " 2,\n",
       " 0,\n",
       " 0,\n",
       " 2,\n",
       " 1,\n",
       " 1,\n",
       " 1,\n",
       " 3,\n",
       " 2,\n",
       " 0,\n",
       " 1,\n",
       " 2,\n",
       " 0,\n",
       " 2,\n",
       " 0,\n",
       " 1,\n",
       " 3,\n",
       " 1,\n",
       " 3,\n",
       " 3,\n",
       " 2,\n",
       " 3,\n",
       " 2,\n",
       " 0,\n",
       " 3,\n",
       " 1,\n",
       " 0,\n",
       " 0,\n",
       " 0,\n",
       " 2,\n",
       " 2,\n",
       " 3,\n",
       " 1,\n",
       " 1,\n",
       " 3,\n",
       " 0,\n",
       " 0,\n",
       " 2,\n",
       " 3,\n",
       " 0,\n",
       " 1,\n",
       " 0,\n",
       " 3,\n",
       " 0,\n",
       " 1,\n",
       " 3,\n",
       " 1,\n",
       " 1,\n",
       " 1,\n",
       " 0,\n",
       " 2,\n",
       " 1,\n",
       " 2,\n",
       " 3,\n",
       " 2,\n",
       " 1,\n",
       " 0,\n",
       " 1,\n",
       " 2,\n",
       " 0,\n",
       " 1,\n",
       " 3,\n",
       " 2,\n",
       " 3,\n",
       " 0,\n",
       " 1,\n",
       " 1,\n",
       " 0,\n",
       " 1,\n",
       " 0,\n",
       " 0,\n",
       " 3,\n",
       " 2,\n",
       " 2,\n",
       " 3,\n",
       " 1,\n",
       " 0,\n",
       " 0,\n",
       " 1,\n",
       " 0,\n",
       " 2,\n",
       " 3,\n",
       " 1,\n",
       " 0,\n",
       " 0,\n",
       " 1,\n",
       " 2,\n",
       " 0,\n",
       " 2,\n",
       " 0,\n",
       " 0,\n",
       " 2,\n",
       " 0,\n",
       " 0,\n",
       " 2,\n",
       " 1,\n",
       " 3,\n",
       " 1,\n",
       " 1,\n",
       " 0,\n",
       " 0,\n",
       " 3,\n",
       " 3,\n",
       " 2,\n",
       " 0,\n",
       " 0,\n",
       " 0,\n",
       " 3,\n",
       " 0,\n",
       " 2,\n",
       " 2,\n",
       " 0,\n",
       " 1,\n",
       " 1,\n",
       " 0,\n",
       " 1,\n",
       " 1,\n",
       " 1,\n",
       " 1,\n",
       " 0,\n",
       " 2,\n",
       " 3,\n",
       " 0,\n",
       " 3,\n",
       " 0,\n",
       " 1,\n",
       " 1,\n",
       " 2,\n",
       " 3,\n",
       " 0,\n",
       " 3,\n",
       " 1,\n",
       " 1,\n",
       " 2,\n",
       " 0,\n",
       " 2,\n",
       " 0,\n",
       " 3,\n",
       " 1,\n",
       " 0,\n",
       " 3,\n",
       " 3,\n",
       " 3,\n",
       " 3,\n",
       " 0,\n",
       " 1,\n",
       " 3,\n",
       " 3,\n",
       " 3,\n",
       " 3,\n",
       " 0,\n",
       " 2,\n",
       " 3,\n",
       " 1,\n",
       " 2,\n",
       " 0,\n",
       " 0,\n",
       " 2,\n",
       " 1,\n",
       " 0,\n",
       " 3,\n",
       " 2,\n",
       " 2,\n",
       " 2,\n",
       " 0,\n",
       " 0,\n",
       " 1,\n",
       " 3,\n",
       " 0,\n",
       " 3,\n",
       " 2,\n",
       " 1,\n",
       " 3,\n",
       " 1,\n",
       " 3,\n",
       " 2,\n",
       " 2,\n",
       " 2,\n",
       " 0,\n",
       " 1,\n",
       " 1,\n",
       " 3,\n",
       " 0,\n",
       " 1,\n",
       " 3,\n",
       " 3,\n",
       " 2,\n",
       " 3,\n",
       " 0,\n",
       " 0,\n",
       " 2,\n",
       " 0,\n",
       " 1,\n",
       " 1,\n",
       " 2,\n",
       " 3,\n",
       " 3,\n",
       " 3,\n",
       " 2,\n",
       " 2,\n",
       " 0,\n",
       " 1,\n",
       " 1,\n",
       " 2,\n",
       " 0,\n",
       " 0,\n",
       " 3,\n",
       " 3,\n",
       " 0,\n",
       " 2,\n",
       " 3,\n",
       " 2,\n",
       " 2,\n",
       " 0,\n",
       " 2,\n",
       " 1,\n",
       " 1,\n",
       " 3,\n",
       " 0,\n",
       " 1,\n",
       " 0,\n",
       " 2,\n",
       " 0,\n",
       " 3,\n",
       " 2,\n",
       " 0,\n",
       " 1,\n",
       " 1,\n",
       " 0,\n",
       " 0,\n",
       " 3,\n",
       " 3,\n",
       " 2,\n",
       " 2,\n",
       " 1,\n",
       " ...]"
      ]
     },
     "execution_count": 113,
     "metadata": {},
     "output_type": "execute_result"
    }
   ],
   "source": [
    "X_train[:2]\n",
    "y_train\n",
    "\n"
   ]
  },
  {
   "cell_type": "code",
   "execution_count": 42,
   "metadata": {
    "id": "Gwb2POYTQxaV"
   },
   "outputs": [],
   "source": [
    "# vectorize(df['tokens'][0], agg_method='mean')"
   ]
  },
  {
   "cell_type": "code",
   "execution_count": 43,
   "metadata": {
    "id": "5idOY6ZGXMkW"
   },
   "outputs": [],
   "source": [
    "# X_train.head()"
   ]
  },
  {
   "cell_type": "code",
   "execution_count": 44,
   "metadata": {
    "colab": {
     "base_uri": "https://localhost:8080/"
    },
    "id": "JUCKCiYpXThS",
    "outputId": "7f15556d-d673-4fba-d2ee-3319c4c214db"
   },
   "outputs": [
    {
     "data": {
      "text/plain": [
       "(1890, 300)"
      ]
     },
     "execution_count": 44,
     "metadata": {},
     "output_type": "execute_result"
    }
   ],
   "source": [
    "vectorizer = Vectorizer(agg_method='max')\n",
    "X_train_vec = vectorizer.fit(X_train)\n",
    "X_train_vec.shape\n",
    "\n",
    "X_test_vec = vectorizer.fit(X_test)\n",
    "X_test_vec.shape"
   ]
  },
  {
   "cell_type": "code",
   "execution_count": 45,
   "metadata": {
    "colab": {
     "base_uri": "https://localhost:8080/"
    },
    "id": "1lb7Q8LrXlfZ",
    "outputId": "9a467bee-1863-40ac-808f-115c9ffbb941"
   },
   "outputs": [
    {
     "name": "stdout",
     "output_type": "stream",
     "text": [
      "[0 1 2 ... 1 1 0]\n"
     ]
    },
    {
     "name": "stderr",
     "output_type": "stream",
     "text": [
      "/opt/anaconda3/lib/python3.8/site-packages/scipy/optimize/linesearch.py:327: LineSearchWarning: The line search algorithm did not converge\n",
      "  warn('The line search algorithm did not converge', LineSearchWarning)\n",
      "/opt/anaconda3/lib/python3.8/site-packages/sklearn/utils/optimize.py:204: UserWarning: Line Search failed\n",
      "  warnings.warn('Line Search failed')\n"
     ]
    }
   ],
   "source": [
    "clf = LogisticRegression(random_state=0,solver='newton-cg', multi_class='multinomial').fit(X_train_vec, y_train)\n",
    "# Infering data on test set\n",
    "prediction_LogReg = clf.predict(X_test_vec)\n",
    "print(prediction_LogReg)"
   ]
  },
  {
   "cell_type": "markdown",
   "metadata": {
    "id": "0wsJCrN67GwL"
   },
   "source": [
    "#  Kmeans"
   ]
  },
  {
   "cell_type": "code",
   "execution_count": 47,
   "metadata": {
    "id": "Qvop-JUFjzIC"
   },
   "outputs": [],
   "source": [
    "df_k= df"
   ]
  },
  {
   "cell_type": "code",
   "execution_count": 48,
   "metadata": {
    "colab": {
     "base_uri": "https://localhost:8080/",
     "height": 239
    },
    "id": "nzgWVDjM8H8B",
    "outputId": "03215962-f5af-4aa5-b4cc-4d3e903788e1"
   },
   "outputs": [
    {
     "data": {
      "text/html": [
       "<div>\n",
       "<style scoped>\n",
       "    .dataframe tbody tr th:only-of-type {\n",
       "        vertical-align: middle;\n",
       "    }\n",
       "\n",
       "    .dataframe tbody tr th {\n",
       "        vertical-align: top;\n",
       "    }\n",
       "\n",
       "    .dataframe thead th {\n",
       "        text-align: right;\n",
       "    }\n",
       "</style>\n",
       "<table border=\"1\" class=\"dataframe\">\n",
       "  <thead>\n",
       "    <tr style=\"text-align: right;\">\n",
       "      <th></th>\n",
       "      <th></th>\n",
       "      <th>sms</th>\n",
       "      <th>happy</th>\n",
       "      <th>joke</th>\n",
       "      <th>angry</th>\n",
       "      <th>heart</th>\n",
       "      <th>filter</th>\n",
       "      <th>tokens</th>\n",
       "    </tr>\n",
       "    <tr>\n",
       "      <th></th>\n",
       "      <th>Unnamed: 0.1</th>\n",
       "      <th></th>\n",
       "      <th></th>\n",
       "      <th></th>\n",
       "      <th></th>\n",
       "      <th></th>\n",
       "      <th></th>\n",
       "      <th></th>\n",
       "    </tr>\n",
       "  </thead>\n",
       "  <tbody>\n",
       "    <tr>\n",
       "      <th>1</th>\n",
       "      <th>4</th>\n",
       "      <td>Oh trop mignon mon bbé jsuis au travaiiiil la</td>\n",
       "      <td>False</td>\n",
       "      <td>False</td>\n",
       "      <td>False</td>\n",
       "      <td>True</td>\n",
       "      <td>True</td>\n",
       "      <td>[Oh, trop, mignon, mon, bbé, jsuis, au, travai...</td>\n",
       "    </tr>\n",
       "    <tr>\n",
       "      <th>3</th>\n",
       "      <th>6</th>\n",
       "      <td>Mon cher et tendre filleul... Je m'engage a et...</td>\n",
       "      <td>False</td>\n",
       "      <td>False</td>\n",
       "      <td>False</td>\n",
       "      <td>True</td>\n",
       "      <td>True</td>\n",
       "      <td>[Mon, cher, et, tendre, filleul, Je, m, engage...</td>\n",
       "    </tr>\n",
       "  </tbody>\n",
       "</table>\n",
       "</div>"
      ],
      "text/plain": [
       "                                                              sms  happy  \\\n",
       "  Unnamed: 0.1                                                             \n",
       "1 4                 Oh trop mignon mon bbé jsuis au travaiiiil la  False   \n",
       "3 6             Mon cher et tendre filleul... Je m'engage a et...  False   \n",
       "\n",
       "                 joke  angry  heart  filter  \\\n",
       "  Unnamed: 0.1                                \n",
       "1 4             False  False   True    True   \n",
       "3 6             False  False   True    True   \n",
       "\n",
       "                                                           tokens  \n",
       "  Unnamed: 0.1                                                     \n",
       "1 4             [Oh, trop, mignon, mon, bbé, jsuis, au, travai...  \n",
       "3 6             [Mon, cher, et, tendre, filleul, Je, m, engage...  "
      ]
     },
     "execution_count": 48,
     "metadata": {},
     "output_type": "execute_result"
    }
   ],
   "source": [
    "df_k[:2]"
   ]
  },
  {
   "cell_type": "code",
   "execution_count": 49,
   "metadata": {
    "id": "JbhKTLsz8Z4p"
   },
   "outputs": [],
   "source": [
    "df_k_cat= df_k.drop(['sms','filter','tokens'], axis=1)"
   ]
  },
  {
   "cell_type": "code",
   "execution_count": 50,
   "metadata": {
    "colab": {
     "base_uri": "https://localhost:8080/",
     "height": 237
    },
    "id": "Llp0dfQj9IyW",
    "outputId": "9c965c4f-e11d-4f7d-ccce-fbd463ad900b"
   },
   "outputs": [
    {
     "data": {
      "text/html": [
       "<div>\n",
       "<style scoped>\n",
       "    .dataframe tbody tr th:only-of-type {\n",
       "        vertical-align: middle;\n",
       "    }\n",
       "\n",
       "    .dataframe tbody tr th {\n",
       "        vertical-align: top;\n",
       "    }\n",
       "\n",
       "    .dataframe thead th {\n",
       "        text-align: right;\n",
       "    }\n",
       "</style>\n",
       "<table border=\"1\" class=\"dataframe\">\n",
       "  <thead>\n",
       "    <tr style=\"text-align: right;\">\n",
       "      <th></th>\n",
       "      <th></th>\n",
       "      <th>happy</th>\n",
       "      <th>joke</th>\n",
       "      <th>angry</th>\n",
       "      <th>heart</th>\n",
       "    </tr>\n",
       "    <tr>\n",
       "      <th></th>\n",
       "      <th>Unnamed: 0.1</th>\n",
       "      <th></th>\n",
       "      <th></th>\n",
       "      <th></th>\n",
       "      <th></th>\n",
       "    </tr>\n",
       "  </thead>\n",
       "  <tbody>\n",
       "    <tr>\n",
       "      <th>1</th>\n",
       "      <th>4</th>\n",
       "      <td>False</td>\n",
       "      <td>False</td>\n",
       "      <td>False</td>\n",
       "      <td>True</td>\n",
       "    </tr>\n",
       "    <tr>\n",
       "      <th>3</th>\n",
       "      <th>6</th>\n",
       "      <td>False</td>\n",
       "      <td>False</td>\n",
       "      <td>False</td>\n",
       "      <td>True</td>\n",
       "    </tr>\n",
       "    <tr>\n",
       "      <th>4</th>\n",
       "      <th>7</th>\n",
       "      <td>False</td>\n",
       "      <td>False</td>\n",
       "      <td>False</td>\n",
       "      <td>True</td>\n",
       "    </tr>\n",
       "    <tr>\n",
       "      <th>6</th>\n",
       "      <th>11</th>\n",
       "      <td>False</td>\n",
       "      <td>True</td>\n",
       "      <td>False</td>\n",
       "      <td>False</td>\n",
       "    </tr>\n",
       "    <tr>\n",
       "      <th>7</th>\n",
       "      <th>14</th>\n",
       "      <td>False</td>\n",
       "      <td>True</td>\n",
       "      <td>False</td>\n",
       "      <td>False</td>\n",
       "    </tr>\n",
       "  </tbody>\n",
       "</table>\n",
       "</div>"
      ],
      "text/plain": [
       "                happy   joke  angry  heart\n",
       "  Unnamed: 0.1                            \n",
       "1 4             False  False  False   True\n",
       "3 6             False  False  False   True\n",
       "4 7             False  False  False   True\n",
       "6 11            False   True  False  False\n",
       "7 14            False   True  False  False"
      ]
     },
     "execution_count": 50,
     "metadata": {},
     "output_type": "execute_result"
    }
   ],
   "source": [
    "df_k_cat.head()"
   ]
  },
  {
   "cell_type": "code",
   "execution_count": 51,
   "metadata": {
    "colab": {
     "base_uri": "https://localhost:8080/"
    },
    "id": "tTPeOtN-9tOZ",
    "outputId": "5b5cd7c7-3713-42c8-9f14-8bca5ccf4f3d"
   },
   "outputs": [
    {
     "data": {
      "text/plain": [
       "LabelEncoder()"
      ]
     },
     "execution_count": 51,
     "metadata": {},
     "output_type": "execute_result"
    }
   ],
   "source": [
    "from sklearn import preprocessing\n",
    "le = preprocessing.LabelEncoder()\n",
    "le.fit([False,True])"
   ]
  },
  {
   "cell_type": "code",
   "execution_count": 52,
   "metadata": {
    "colab": {
     "base_uri": "https://localhost:8080/"
    },
    "id": "4Xz0O9O5-M--",
    "outputId": "2b3faeaa-a094-417c-ee94-80f9872f3700"
   },
   "outputs": [
    {
     "data": {
      "text/plain": [
       "array([False,  True])"
      ]
     },
     "execution_count": 52,
     "metadata": {},
     "output_type": "execute_result"
    }
   ],
   "source": [
    "le.classes_"
   ]
  },
  {
   "cell_type": "code",
   "execution_count": 53,
   "metadata": {
    "id": "KA-RVkSa-Vxc"
   },
   "outputs": [],
   "source": [
    "cols=[\"happy\", \"joke\", \"angry\", \"heart\"]\n",
    "df_k_cat[cols]=df_k_cat[cols].apply(le.transform)"
   ]
  },
  {
   "cell_type": "code",
   "execution_count": 54,
   "metadata": {
    "colab": {
     "base_uri": "https://localhost:8080/",
     "height": 143
    },
    "id": "_NBnX6KEAOSq",
    "outputId": "e7582d83-7d03-4e38-813c-69a5533a4ded"
   },
   "outputs": [
    {
     "data": {
      "text/html": [
       "<div>\n",
       "<style scoped>\n",
       "    .dataframe tbody tr th:only-of-type {\n",
       "        vertical-align: middle;\n",
       "    }\n",
       "\n",
       "    .dataframe tbody tr th {\n",
       "        vertical-align: top;\n",
       "    }\n",
       "\n",
       "    .dataframe thead th {\n",
       "        text-align: right;\n",
       "    }\n",
       "</style>\n",
       "<table border=\"1\" class=\"dataframe\">\n",
       "  <thead>\n",
       "    <tr style=\"text-align: right;\">\n",
       "      <th></th>\n",
       "      <th></th>\n",
       "      <th>happy</th>\n",
       "      <th>joke</th>\n",
       "      <th>angry</th>\n",
       "      <th>heart</th>\n",
       "    </tr>\n",
       "    <tr>\n",
       "      <th></th>\n",
       "      <th>Unnamed: 0.1</th>\n",
       "      <th></th>\n",
       "      <th></th>\n",
       "      <th></th>\n",
       "      <th></th>\n",
       "    </tr>\n",
       "  </thead>\n",
       "  <tbody>\n",
       "    <tr>\n",
       "      <th>1</th>\n",
       "      <th>4</th>\n",
       "      <td>0</td>\n",
       "      <td>0</td>\n",
       "      <td>0</td>\n",
       "      <td>1</td>\n",
       "    </tr>\n",
       "    <tr>\n",
       "      <th>3</th>\n",
       "      <th>6</th>\n",
       "      <td>0</td>\n",
       "      <td>0</td>\n",
       "      <td>0</td>\n",
       "      <td>1</td>\n",
       "    </tr>\n",
       "  </tbody>\n",
       "</table>\n",
       "</div>"
      ],
      "text/plain": [
       "                happy  joke  angry  heart\n",
       "  Unnamed: 0.1                           \n",
       "1 4                 0     0      0      1\n",
       "3 6                 0     0      0      1"
      ]
     },
     "execution_count": 54,
     "metadata": {},
     "output_type": "execute_result"
    }
   ],
   "source": [
    "df_k_cat[:2]"
   ]
  },
  {
   "cell_type": "code",
   "execution_count": 55,
   "metadata": {
    "id": "v_Ql6ywk9Sa1"
   },
   "outputs": [],
   "source": [
    "correlation= df_k_cat.corr()"
   ]
  },
  {
   "cell_type": "code",
   "execution_count": 56,
   "metadata": {
    "id": "ShWUXYHyAs2X"
   },
   "outputs": [],
   "source": [
    "#sns.heatmap(correlation, cmap='viridis', annot=True)"
   ]
  },
  {
   "cell_type": "markdown",
   "metadata": {
    "id": "v0nbV09FHTvR"
   },
   "source": [
    "##Mis à l'échelle de nos donnéees vecteurs"
   ]
  },
  {
   "cell_type": "code",
   "execution_count": 57,
   "metadata": {
    "colab": {
     "base_uri": "https://localhost:8080/"
    },
    "id": "VsspuDxaDWvX",
    "outputId": "a36e0555-2170-4baa-9525-4942bd68bb20"
   },
   "outputs": [
    {
     "data": {
      "text/plain": [
       "(3835, 300)"
      ]
     },
     "execution_count": 57,
     "metadata": {},
     "output_type": "execute_result"
    }
   ],
   "source": [
    "\n",
    "min_max = MinMaxScaler()\n",
    "min_max\n",
    "\n",
    "df_minmax = min_max.fit_transform(X_train_vec)\n",
    "df_minmax.shape\n",
    "# pd.DataFrame(df_minmax, columns = df.columns, index=df.index).boxplot(rot = 45)\n"
   ]
  },
  {
   "cell_type": "code",
   "execution_count": 58,
   "metadata": {
    "colab": {
     "base_uri": "https://localhost:8080/",
     "height": 393
    },
    "id": "VZwkwi-7DWy9",
    "outputId": "63371dc8-f828-48dd-fa68-29d49cda2c03"
   },
   "outputs": [
    {
     "data": {
      "text/html": [
       "<div>\n",
       "<style scoped>\n",
       "    .dataframe tbody tr th:only-of-type {\n",
       "        vertical-align: middle;\n",
       "    }\n",
       "\n",
       "    .dataframe tbody tr th {\n",
       "        vertical-align: top;\n",
       "    }\n",
       "\n",
       "    .dataframe thead th {\n",
       "        text-align: right;\n",
       "    }\n",
       "</style>\n",
       "<table border=\"1\" class=\"dataframe\">\n",
       "  <thead>\n",
       "    <tr style=\"text-align: right;\">\n",
       "      <th></th>\n",
       "      <th>0</th>\n",
       "      <th>1</th>\n",
       "      <th>2</th>\n",
       "      <th>3</th>\n",
       "      <th>4</th>\n",
       "      <th>5</th>\n",
       "      <th>6</th>\n",
       "      <th>7</th>\n",
       "      <th>8</th>\n",
       "      <th>9</th>\n",
       "      <th>...</th>\n",
       "      <th>290</th>\n",
       "      <th>291</th>\n",
       "      <th>292</th>\n",
       "      <th>293</th>\n",
       "      <th>294</th>\n",
       "      <th>295</th>\n",
       "      <th>296</th>\n",
       "      <th>297</th>\n",
       "      <th>298</th>\n",
       "      <th>299</th>\n",
       "    </tr>\n",
       "  </thead>\n",
       "  <tbody>\n",
       "    <tr>\n",
       "      <th>count</th>\n",
       "      <td>3835.000000</td>\n",
       "      <td>3835.000000</td>\n",
       "      <td>3835.000000</td>\n",
       "      <td>3835.000000</td>\n",
       "      <td>3835.000000</td>\n",
       "      <td>3835.000000</td>\n",
       "      <td>3835.000000</td>\n",
       "      <td>3835.000000</td>\n",
       "      <td>3835.000000</td>\n",
       "      <td>3835.000000</td>\n",
       "      <td>...</td>\n",
       "      <td>3835.000000</td>\n",
       "      <td>3835.000000</td>\n",
       "      <td>3835.000000</td>\n",
       "      <td>3835.000000</td>\n",
       "      <td>3835.000000</td>\n",
       "      <td>3835.000000</td>\n",
       "      <td>3835.000000</td>\n",
       "      <td>3835.000000</td>\n",
       "      <td>3835.000000</td>\n",
       "      <td>3835.000000</td>\n",
       "    </tr>\n",
       "    <tr>\n",
       "      <th>mean</th>\n",
       "      <td>0.522807</td>\n",
       "      <td>0.637008</td>\n",
       "      <td>0.663352</td>\n",
       "      <td>0.623616</td>\n",
       "      <td>0.598143</td>\n",
       "      <td>0.763278</td>\n",
       "      <td>0.682752</td>\n",
       "      <td>0.684155</td>\n",
       "      <td>0.569724</td>\n",
       "      <td>0.599085</td>\n",
       "      <td>...</td>\n",
       "      <td>0.564867</td>\n",
       "      <td>0.621693</td>\n",
       "      <td>0.671583</td>\n",
       "      <td>0.709817</td>\n",
       "      <td>0.664533</td>\n",
       "      <td>0.613131</td>\n",
       "      <td>0.565579</td>\n",
       "      <td>0.673897</td>\n",
       "      <td>0.499679</td>\n",
       "      <td>0.703202</td>\n",
       "    </tr>\n",
       "    <tr>\n",
       "      <th>std</th>\n",
       "      <td>0.118957</td>\n",
       "      <td>0.157786</td>\n",
       "      <td>0.163876</td>\n",
       "      <td>0.118632</td>\n",
       "      <td>0.179351</td>\n",
       "      <td>0.162978</td>\n",
       "      <td>0.132083</td>\n",
       "      <td>0.129963</td>\n",
       "      <td>0.145644</td>\n",
       "      <td>0.139588</td>\n",
       "      <td>...</td>\n",
       "      <td>0.124664</td>\n",
       "      <td>0.167335</td>\n",
       "      <td>0.129548</td>\n",
       "      <td>0.113527</td>\n",
       "      <td>0.153322</td>\n",
       "      <td>0.153187</td>\n",
       "      <td>0.144097</td>\n",
       "      <td>0.147035</td>\n",
       "      <td>0.110634</td>\n",
       "      <td>0.197630</td>\n",
       "    </tr>\n",
       "    <tr>\n",
       "      <th>min</th>\n",
       "      <td>0.000000</td>\n",
       "      <td>0.000000</td>\n",
       "      <td>0.000000</td>\n",
       "      <td>0.000000</td>\n",
       "      <td>0.000000</td>\n",
       "      <td>0.000000</td>\n",
       "      <td>0.000000</td>\n",
       "      <td>0.000000</td>\n",
       "      <td>0.000000</td>\n",
       "      <td>0.000000</td>\n",
       "      <td>...</td>\n",
       "      <td>0.000000</td>\n",
       "      <td>0.000000</td>\n",
       "      <td>0.000000</td>\n",
       "      <td>0.000000</td>\n",
       "      <td>0.000000</td>\n",
       "      <td>0.000000</td>\n",
       "      <td>0.000000</td>\n",
       "      <td>0.000000</td>\n",
       "      <td>0.000000</td>\n",
       "      <td>0.000000</td>\n",
       "    </tr>\n",
       "    <tr>\n",
       "      <th>25%</th>\n",
       "      <td>0.448496</td>\n",
       "      <td>0.528359</td>\n",
       "      <td>0.566647</td>\n",
       "      <td>0.560382</td>\n",
       "      <td>0.458790</td>\n",
       "      <td>0.679744</td>\n",
       "      <td>0.613911</td>\n",
       "      <td>0.616314</td>\n",
       "      <td>0.471675</td>\n",
       "      <td>0.511499</td>\n",
       "      <td>...</td>\n",
       "      <td>0.481618</td>\n",
       "      <td>0.507431</td>\n",
       "      <td>0.583023</td>\n",
       "      <td>0.640087</td>\n",
       "      <td>0.584359</td>\n",
       "      <td>0.519443</td>\n",
       "      <td>0.451431</td>\n",
       "      <td>0.590191</td>\n",
       "      <td>0.409347</td>\n",
       "      <td>0.577369</td>\n",
       "    </tr>\n",
       "    <tr>\n",
       "      <th>50%</th>\n",
       "      <td>0.534503</td>\n",
       "      <td>0.676158</td>\n",
       "      <td>0.663225</td>\n",
       "      <td>0.633623</td>\n",
       "      <td>0.617906</td>\n",
       "      <td>0.786047</td>\n",
       "      <td>0.699637</td>\n",
       "      <td>0.680817</td>\n",
       "      <td>0.568803</td>\n",
       "      <td>0.583427</td>\n",
       "      <td>...</td>\n",
       "      <td>0.585066</td>\n",
       "      <td>0.617102</td>\n",
       "      <td>0.677312</td>\n",
       "      <td>0.733457</td>\n",
       "      <td>0.677173</td>\n",
       "      <td>0.616876</td>\n",
       "      <td>0.567038</td>\n",
       "      <td>0.707380</td>\n",
       "      <td>0.526347</td>\n",
       "      <td>0.652696</td>\n",
       "    </tr>\n",
       "    <tr>\n",
       "      <th>75%</th>\n",
       "      <td>0.618916</td>\n",
       "      <td>0.757276</td>\n",
       "      <td>0.776621</td>\n",
       "      <td>0.707246</td>\n",
       "      <td>0.751688</td>\n",
       "      <td>0.889025</td>\n",
       "      <td>0.800524</td>\n",
       "      <td>0.765198</td>\n",
       "      <td>0.667372</td>\n",
       "      <td>0.705365</td>\n",
       "      <td>...</td>\n",
       "      <td>0.636664</td>\n",
       "      <td>0.712681</td>\n",
       "      <td>0.763538</td>\n",
       "      <td>0.773153</td>\n",
       "      <td>0.772180</td>\n",
       "      <td>0.732563</td>\n",
       "      <td>0.698459</td>\n",
       "      <td>0.778922</td>\n",
       "      <td>0.576434</td>\n",
       "      <td>0.907934</td>\n",
       "    </tr>\n",
       "    <tr>\n",
       "      <th>max</th>\n",
       "      <td>1.000000</td>\n",
       "      <td>1.000000</td>\n",
       "      <td>1.000000</td>\n",
       "      <td>1.000000</td>\n",
       "      <td>1.000000</td>\n",
       "      <td>1.000000</td>\n",
       "      <td>1.000000</td>\n",
       "      <td>1.000000</td>\n",
       "      <td>1.000000</td>\n",
       "      <td>1.000000</td>\n",
       "      <td>...</td>\n",
       "      <td>1.000000</td>\n",
       "      <td>1.000000</td>\n",
       "      <td>1.000000</td>\n",
       "      <td>1.000000</td>\n",
       "      <td>1.000000</td>\n",
       "      <td>1.000000</td>\n",
       "      <td>1.000000</td>\n",
       "      <td>1.000000</td>\n",
       "      <td>1.000000</td>\n",
       "      <td>1.000000</td>\n",
       "    </tr>\n",
       "  </tbody>\n",
       "</table>\n",
       "<p>8 rows × 300 columns</p>\n",
       "</div>"
      ],
      "text/plain": [
       "               0            1            2            3            4    \\\n",
       "count  3835.000000  3835.000000  3835.000000  3835.000000  3835.000000   \n",
       "mean      0.522807     0.637008     0.663352     0.623616     0.598143   \n",
       "std       0.118957     0.157786     0.163876     0.118632     0.179351   \n",
       "min       0.000000     0.000000     0.000000     0.000000     0.000000   \n",
       "25%       0.448496     0.528359     0.566647     0.560382     0.458790   \n",
       "50%       0.534503     0.676158     0.663225     0.633623     0.617906   \n",
       "75%       0.618916     0.757276     0.776621     0.707246     0.751688   \n",
       "max       1.000000     1.000000     1.000000     1.000000     1.000000   \n",
       "\n",
       "               5            6            7            8            9    ...  \\\n",
       "count  3835.000000  3835.000000  3835.000000  3835.000000  3835.000000  ...   \n",
       "mean      0.763278     0.682752     0.684155     0.569724     0.599085  ...   \n",
       "std       0.162978     0.132083     0.129963     0.145644     0.139588  ...   \n",
       "min       0.000000     0.000000     0.000000     0.000000     0.000000  ...   \n",
       "25%       0.679744     0.613911     0.616314     0.471675     0.511499  ...   \n",
       "50%       0.786047     0.699637     0.680817     0.568803     0.583427  ...   \n",
       "75%       0.889025     0.800524     0.765198     0.667372     0.705365  ...   \n",
       "max       1.000000     1.000000     1.000000     1.000000     1.000000  ...   \n",
       "\n",
       "               290          291          292          293          294  \\\n",
       "count  3835.000000  3835.000000  3835.000000  3835.000000  3835.000000   \n",
       "mean      0.564867     0.621693     0.671583     0.709817     0.664533   \n",
       "std       0.124664     0.167335     0.129548     0.113527     0.153322   \n",
       "min       0.000000     0.000000     0.000000     0.000000     0.000000   \n",
       "25%       0.481618     0.507431     0.583023     0.640087     0.584359   \n",
       "50%       0.585066     0.617102     0.677312     0.733457     0.677173   \n",
       "75%       0.636664     0.712681     0.763538     0.773153     0.772180   \n",
       "max       1.000000     1.000000     1.000000     1.000000     1.000000   \n",
       "\n",
       "               295          296          297          298          299  \n",
       "count  3835.000000  3835.000000  3835.000000  3835.000000  3835.000000  \n",
       "mean      0.613131     0.565579     0.673897     0.499679     0.703202  \n",
       "std       0.153187     0.144097     0.147035     0.110634     0.197630  \n",
       "min       0.000000     0.000000     0.000000     0.000000     0.000000  \n",
       "25%       0.519443     0.451431     0.590191     0.409347     0.577369  \n",
       "50%       0.616876     0.567038     0.707380     0.526347     0.652696  \n",
       "75%       0.732563     0.698459     0.778922     0.576434     0.907934  \n",
       "max       1.000000     1.000000     1.000000     1.000000     1.000000  \n",
       "\n",
       "[8 rows x 300 columns]"
      ]
     },
     "execution_count": 58,
     "metadata": {},
     "output_type": "execute_result"
    }
   ],
   "source": [
    "pd.DataFrame(df_minmax).describe()"
   ]
  },
  {
   "cell_type": "code",
   "execution_count": 59,
   "metadata": {
    "colab": {
     "base_uri": "https://localhost:8080/"
    },
    "id": "XSbh3b_bH2xh",
    "outputId": "a15315eb-7e74-4e1b-a066-fabd1ee0b0b4"
   },
   "outputs": [
    {
     "data": {
      "text/plain": [
       "KMeans(n_clusters=4, random_state=42)"
      ]
     },
     "execution_count": 59,
     "metadata": {},
     "output_type": "execute_result"
    }
   ],
   "source": [
    "from sklearn import cluster\n",
    "kmeans_minmax = cluster.KMeans(n_clusters=4, random_state=42)\n",
    "kmeans_minmax\n",
    "kmeans_minmax.fit(df_minmax)"
   ]
  },
  {
   "cell_type": "code",
   "execution_count": 60,
   "metadata": {
    "colab": {
     "base_uri": "https://localhost:8080/"
    },
    "id": "F909TWM9JJbI",
    "outputId": "8f051518-401d-4868-b882-a79809ecfb19"
   },
   "outputs": [
    {
     "data": {
      "text/plain": [
       "array([3, 2, 2, ..., 0, 2, 0], dtype=int32)"
      ]
     },
     "execution_count": 60,
     "metadata": {},
     "output_type": "execute_result"
    }
   ],
   "source": [
    "kmeans_minmax.labels_"
   ]
  },
  {
   "cell_type": "code",
   "execution_count": 61,
   "metadata": {
    "colab": {
     "base_uri": "https://localhost:8080/"
    },
    "id": "3c0NIk-PJiRJ",
    "outputId": "5c88ba50-6378-47ac-a3e9-fc1bd2de476b"
   },
   "outputs": [
    {
     "data": {
      "text/plain": [
       "24"
      ]
     },
     "execution_count": 61,
     "metadata": {},
     "output_type": "execute_result"
    }
   ],
   "source": [
    "kmeans_minmax.n_iter_"
   ]
  },
  {
   "cell_type": "code",
   "execution_count": 62,
   "metadata": {
    "colab": {
     "base_uri": "https://localhost:8080/"
    },
    "id": "1S7GO3_6JvCf",
    "outputId": "223e6dff-f44e-48ad-f3ee-46a5f1e762d6"
   },
   "outputs": [
    {
     "data": {
      "text/plain": [
       "12809.4248046875"
      ]
     },
     "execution_count": 62,
     "metadata": {},
     "output_type": "execute_result"
    }
   ],
   "source": [
    "kmeans_minmax.inertia_"
   ]
  },
  {
   "cell_type": "code",
   "execution_count": 63,
   "metadata": {
    "colab": {
     "base_uri": "https://localhost:8080/",
     "height": 609
    },
    "id": "8Wp7zu3QKN0U",
    "outputId": "05094757-041a-4d4b-f81b-3d0199186b33"
   },
   "outputs": [
    {
     "data": {
      "text/plain": [
       "<matplotlib.collections.PathCollection at 0x7f84db6ba8b0>"
      ]
     },
     "execution_count": 63,
     "metadata": {},
     "output_type": "execute_result"
    },
    {
     "data": {
      "image/png": "[encoded data removed]",
      "text/plain": [
       "<Figure size 720x720 with 1 Axes>"
      ]
     },
     "metadata": {
      "image/png": {
       "height": 574,
       "width": 593
      },
      "needs_background": "light"
     },
     "output_type": "display_data"
    }
   ],
   "source": [
    "y_kmeans = kmeans_minmax.predict(df_minmax)\n",
    "y_kmeans\n",
    "centers = kmeans_minmax.cluster_centers_\n",
    "\n",
    "plt.figure(figsize=(10,10))\n",
    "plt.scatter(df_minmax[ : , 0], df_minmax[ : , 1], c=y_kmeans, s=50, cmap='viridis')\n",
    "# colmap = {1: 'r', 2: 'g', 3: 'b', 4: 'y'}\n",
    "plt.scatter(centers[:, 0], centers[:, 1], c='red', s=200, alpha=0.5)"
   ]
  },
  {
   "cell_type": "code",
   "execution_count": 64,
   "metadata": {
    "colab": {
     "base_uri": "https://localhost:8080/"
    },
    "id": "o5UdvOi2d--d",
    "outputId": "b39def22-eb43-4aab-8700-1937db013a54"
   },
   "outputs": [
    {
     "data": {
      "text/plain": [
       "(3835,)"
      ]
     },
     "execution_count": 64,
     "metadata": {},
     "output_type": "execute_result"
    }
   ],
   "source": [
    "y_kmeans.shape"
   ]
  },
  {
   "cell_type": "code",
   "execution_count": 65,
   "metadata": {
    "colab": {
     "base_uri": "https://localhost:8080/",
     "height": 485
    },
    "id": "DZhihJh_Lnhp",
    "outputId": "add476d3-dc00-47af-b7ad-c49b38d6ec35"
   },
   "outputs": [
    {
     "name": "stdout",
     "output_type": "stream",
     "text": [
      "*** For n_clusters = 1, inertia is 22829.517578125 ***\n",
      "\n",
      "*** For n_clusters = 2, inertia is 15620.49609375 ***\n",
      "\n",
      "*** For n_clusters = 3, inertia is 13527.1796875 ***\n",
      "\n",
      "*** For n_clusters = 4, inertia is 12809.4248046875 ***\n",
      "\n",
      "*** For n_clusters = 5, inertia is 12428.5302734375 ***\n",
      "\n"
     ]
    },
    {
     "data": {
      "text/plain": [
       "Text(0.5, 1.0, 'Optimal nb of clusters')"
      ]
     },
     "execution_count": 65,
     "metadata": {},
     "output_type": "execute_result"
    },
    {
     "data": {
      "image/png": "[encoded data removed]",
      "text/plain": [
       "<Figure size 432x288 with 1 Axes>"
      ]
     },
     "metadata": {
      "image/png": {
       "height": 276,
       "width": 397
      },
      "needs_background": "light"
     },
     "output_type": "display_data"
    }
   ],
   "source": [
    "scores = {}\n",
    "for k in range(1, 6):\n",
    "    km = cluster.KMeans(n_clusters=k, random_state=42)\n",
    "    km.fit(df_minmax)\n",
    "    scores[k] = km.inertia_\n",
    "    print(f'*** For n_clusters = {k}, inertia is {km.inertia_} ***\\n')\n",
    "plt.figure()\n",
    "plt.plot(list(scores.keys()), list(scores.values()))\n",
    "plt.xlabel(\"Number of cluster\")\n",
    "plt.ylabel(\"inertia\")\n",
    "plt.title(\"Optimal nb of clusters\")"
   ]
  },
  {
   "cell_type": "code",
   "execution_count": 66,
   "metadata": {
    "colab": {
     "base_uri": "https://localhost:8080/"
    },
    "id": "0g9npwg7R5mb",
    "outputId": "ae582937-5a6f-43f7-9b13-771ffc367959"
   },
   "outputs": [
    {
     "data": {
      "text/plain": [
       "array([[322, 364, 369, 196],\n",
       "       [ 89,  71,  79,  95],\n",
       "       [181, 218, 148, 183],\n",
       "       [390, 471, 425, 234]])"
      ]
     },
     "execution_count": 66,
     "metadata": {},
     "output_type": "execute_result"
    }
   ],
   "source": [
    "matrix = confusion_matrix(y_kmeans, y_train)\n",
    "matrix"
   ]
  },
  {
   "cell_type": "code",
   "execution_count": 67,
   "metadata": {
    "colab": {
     "base_uri": "https://localhost:8080/",
     "height": 531
    },
    "id": "DiX2oWIKcRGu",
    "outputId": "44166d98-95cb-4f23-e690-898fede23ab5"
   },
   "outputs": [
    {
     "data": {
      "text/plain": [
       "(<Figure size 720x576 with 2 Axes>,\n",
       " <matplotlib.axes._subplots.AxesSubplot at 0x7f84dc2004c0>)"
      ]
     },
     "execution_count": 67,
     "metadata": {},
     "output_type": "execute_result"
    },
    {
     "data": {
      "image/png": "[encoded data removed]",
      "text/plain": [
       "<Figure size 720x576 with 2 Axes>"
      ]
     },
     "metadata": {
      "image/png": {
       "height": 495,
       "width": 572
      },
      "needs_background": "light"
     },
     "output_type": "display_data"
    }
   ],
   "source": [
    "plot_confusion_matrix(conf_mat=matrix,\n",
    "                                colorbar=True,\n",
    "                                show_absolute=True,\n",
    "                                show_normed=True, class_names=classes, figsize=(10,8))"
   ]
  },
  {
   "cell_type": "code",
   "execution_count": 68,
   "metadata": {
    "colab": {
     "base_uri": "https://localhost:8080/"
    },
    "id": "s7q8v4kdcW9U",
    "outputId": "6aecbb2d-46d6-441f-ca0c-21397bf3b612"
   },
   "outputs": [
    {
     "data": {
      "text/plain": [
       "array([3, 2, 2, ..., 0, 2, 0], dtype=int32)"
      ]
     },
     "execution_count": 68,
     "metadata": {},
     "output_type": "execute_result"
    }
   ],
   "source": [
    "y_kmeans\n"
   ]
  },
  {
   "cell_type": "markdown",
   "metadata": {},
   "source": [
    "## Random forest"
   ]
  },
  {
   "cell_type": "code",
   "execution_count": 69,
   "metadata": {},
   "outputs": [],
   "source": [
    "from sklearn import metrics\n",
    "from mlxtend.plotting import plot_confusion_matrix\n",
    "import numpy as np\n",
    "import pandas as pd\n",
    "from sklearn.model_selection import train_test_split\n",
    "from sklearn.ensemble import RandomForestClassifier\n",
    "from sklearn.metrics import confusion_matrix"
   ]
  },
  {
   "cell_type": "code",
   "execution_count": 70,
   "metadata": {},
   "outputs": [
    {
     "data": {
      "text/plain": [
       "RandomForestClassifier(n_jobs=-1, random_state=42)"
      ]
     },
     "execution_count": 70,
     "metadata": {},
     "output_type": "execute_result"
    }
   ],
   "source": [
    "rf = RandomForestClassifier(n_jobs=-1, random_state=42)\n",
    "rf"
   ]
  },
  {
   "cell_type": "code",
   "execution_count": 71,
   "metadata": {},
   "outputs": [
    {
     "data": {
      "text/plain": [
       "RandomForestClassifier(n_jobs=-1, random_state=42)"
      ]
     },
     "execution_count": 71,
     "metadata": {},
     "output_type": "execute_result"
    }
   ],
   "source": [
    "rf.fit(X_train_vec, y_train)"
   ]
  },
  {
   "cell_type": "code",
   "execution_count": 72,
   "metadata": {},
   "outputs": [
    {
     "data": {
      "text/plain": [
       "100"
      ]
     },
     "execution_count": 72,
     "metadata": {},
     "output_type": "execute_result"
    }
   ],
   "source": [
    "rf.n_estimators"
   ]
  },
  {
   "cell_type": "code",
   "execution_count": 103,
   "metadata": {},
   "outputs": [],
   "source": [
    "y_pred = rf.predict(X_test_vec)\n",
    "#y_pred"
   ]
  },
  {
   "cell_type": "code",
   "execution_count": 104,
   "metadata": {},
   "outputs": [],
   "source": [
    "#y_test"
   ]
  },
  {
   "cell_type": "code",
   "execution_count": 75,
   "metadata": {},
   "outputs": [],
   "source": [
    " conf_mat = metrics.confusion_matrix(y_test, y_pred)"
   ]
  },
  {
   "cell_type": "code",
   "execution_count": 76,
   "metadata": {},
   "outputs": [
    {
     "data": {
      "text/plain": [
       "(<Figure size 720x720 with 2 Axes>,\n",
       " <matplotlib.axes._subplots.AxesSubplot at 0x7f84bcaf1700>)"
      ]
     },
     "execution_count": 76,
     "metadata": {},
     "output_type": "execute_result"
    },
    {
     "data": {
      "image/png": "[encoded data removed]",
      "text/plain": [
       "<Figure size 720x720 with 2 Axes>"
      ]
     },
     "metadata": {
      "image/png": {
       "height": 557,
       "width": 589
      },
      "needs_background": "light"
     },
     "output_type": "display_data"
    }
   ],
   "source": [
    "plot_confusion_matrix(conf_mat=conf_mat,\n",
    "                                colorbar=True,\n",
    "                                show_absolute=True,\n",
    "                                show_normed=True,\n",
    "                                class_names=classes, figsize= (10,10))"
   ]
  },
  {
   "cell_type": "markdown",
   "metadata": {},
   "source": [
    "## KNN"
   ]
  },
  {
   "cell_type": "code",
   "execution_count": 79,
   "metadata": {},
   "outputs": [],
   "source": [
    "import numpy as np\n",
    "import matplotlib.pyplot as plt\n",
    "from sklearn.model_selection import train_test_split\n",
    "from sklearn.neighbors import KNeighborsClassifier\n",
    "from sklearn import metrics"
   ]
  },
  {
   "cell_type": "code",
   "execution_count": 110,
   "metadata": {},
   "outputs": [
    {
     "name": "stdout",
     "output_type": "stream",
     "text": [
      "[[203 110 111  51]\n",
      " [203 166 125  54]\n",
      " [172 123 168  49]\n",
      " [141  58  58  98]]\n"
     ]
    }
   ],
   "source": [
    "knn = KNeighborsClassifier(n_neighbors=4)\n",
    "knn.fit(X_train_vec, y_train)\n",
    "y_pred = knn.predict(X_test_vec)\n",
    "\n",
    "print(metrics.confusion_matrix(y_test, y_pred)) "
   ]
  },
  {
   "cell_type": "code",
   "execution_count": 82,
   "metadata": {},
   "outputs": [],
   "source": [
    " conf_mat = metrics.confusion_matrix(y_test, y_pred)"
   ]
  },
  {
   "cell_type": "code",
   "execution_count": 83,
   "metadata": {},
   "outputs": [
    {
     "data": {
      "text/plain": [
       "(<Figure size 720x720 with 2 Axes>,\n",
       " <matplotlib.axes._subplots.AxesSubplot at 0x7f84d73e1280>)"
      ]
     },
     "execution_count": 83,
     "metadata": {},
     "output_type": "execute_result"
    },
    {
     "data": {
      "image/png": "[encoded data removed]",
      "text/plain": [
       "<Figure size 720x720 with 2 Axes>"
      ]
     },
     "metadata": {
      "image/png": {
       "height": 557,
       "width": 589
      },
      "needs_background": "light"
     },
     "output_type": "display_data"
    }
   ],
   "source": [
    "plot_confusion_matrix(conf_mat=conf_mat,\n",
    "                                colorbar=True,\n",
    "                                show_absolute=True,\n",
    "                                show_normed=True,\n",
    "                                class_names=classes, figsize= (10,10))"
   ]
  },
  {
   "cell_type": "markdown",
   "metadata": {},
   "source": [
    "## Comparaison entre la prediction et le reel (logreg et RF)"
   ]
  },
  {
   "cell_type": "code",
   "execution_count": 84,
   "metadata": {},
   "outputs": [],
   "source": [
    "humors = ['happy', 'angry', 'joke', 'heart']\n",
    "meta_smiley = [b'\\xF0\\x9F\\x98\\x83'.decode(\"utf-8\"),\n",
    "                b'\\xF0\\x9F\\x98\\xA0'.decode(\"utf-8\"),\n",
    "                b'\\xF0\\x9F\\x98\\x86'.decode(\"utf-8\"),\n",
    "                b'\\xF0\\x9F\\x98\\x8D'.decode(\"utf-8\")]\n",
    "humor_2_emoji = {h: ms for (h, ms) in zip(humors, meta_smiley)}"
   ]
  },
  {
   "cell_type": "code",
   "execution_count": 85,
   "metadata": {},
   "outputs": [],
   "source": [
    "prediction_LogReg = clf.predict(X_test_vec)"
   ]
  },
  {
   "cell_type": "code",
   "execution_count": 86,
   "metadata": {},
   "outputs": [
    {
     "name": "stdout",
     "output_type": "stream",
     "text": [
      "Très bien! [_forename_] va venir au vert anglais et [_forename_] nous rejoindra aussi ca te dérange ou pas? Au pire on pourra s'isoler pr parler (Pred) 😠 (True) 😃 \n",
      "\n",
      "Celui pour dans deux semaines ! Ta dis que tu maiderais... ' (Pred) 😃 (True) 😆 \n",
      "\n",
      "Juste une pensée pour pas que tu oublie combien ont t'aime courage . . . Bisou tt plein de nous 5. (Pred) 😠 (True) 😆 \n",
      "\n",
      "Super (Pred) 😃 (True) 😆 \n",
      "\n",
      "Bah je sais pas! Je savais meme pas quon pouvait le desactiver ... Dun coté je msuis endormie avec mon ordi hier soir... (Pred) 😠 (True) 😆 \n",
      "\n",
      "Je vais regarder plus en détail le travail de [_forename_] et je te redirai. pour la physique je n'ai que survolé le Dm donc je ne peux pas t'aider et pour la chimie comment tu fais pour trouver le degré d'oxydation? (Pred) 😃 (True) 😠 \n",
      "\n",
      "vous faites quoi? (Pred) 😃 (True) 😃 \n",
      "\n",
      "Ta vu le temps qu'il annonce cette semaine ! On à l'été indien (Pred) 😆 (True) 😃 \n",
      "\n"
     ]
    }
   ],
   "source": [
    "for _ in range(8):\n",
    "    idx = np.random.randint(0, len(X_test))\n",
    "    \n",
    "    emojis = humor_2_emoji[classes[prediction_LogReg[idx]]]\n",
    "    \n",
    "    true_emojis = humor_2_emoji[classes[y_test[idx]]]\n",
    "    print(X_test['sms'].values[idx], '(Pred)', emojis, '(True)', true_emojis, '\\n')"
   ]
  },
  {
   "cell_type": "code",
   "execution_count": 87,
   "metadata": {},
   "outputs": [],
   "source": [
    "prediction_rf = rf.predict(X_test_vec)"
   ]
  },
  {
   "cell_type": "code",
   "execution_count": 88,
   "metadata": {},
   "outputs": [
    {
     "name": "stdout",
     "output_type": "stream",
     "text": [
      "Bon j'te laisse, y a ma copine Bisous (Pred) 😆 (True) 😃 \n",
      "\n",
      "Et bien les cinémas gaumont m'offrent une place gratuite pour mon anniversaire mais valable juste aujourd'hui donc là je viens de faire quelques cadeaux -enfin deux..- je vais faire des photocopies et après j'irai voir mon film (Pred) 😃 (True) 😃 \n",
      "\n",
      "Oui! Je viendrais te les amener chez toi en revenant de cours!!=DD (Pred) 😃 (True) 😍 \n",
      "\n",
      "J'y pense pas. Je suis juste triste . Sans penser . Juste très triste Je t'aime (Pred) 😠 (True) 😠 \n",
      "\n",
      "Merci (Pred) 😍 (True) 😃 \n",
      "\n",
      "Oui, trop difficile jlui ai déjà dis et aussi assez comment dire... chier avec certaines... y regarde beaucoup le nez ! Lol (Pred) 😆 (True) 😠 \n",
      "\n",
      "J'ai raté le tram. 7 min viens avec moiiii stp (Pred) 😆 (True) 😠 \n",
      "\n",
      "Oki merci (Pred) 😃 (True) 😃 \n",
      "\n"
     ]
    }
   ],
   "source": [
    "for _ in range(8):\n",
    "    idx = np.random.randint(0, len(X_test))\n",
    "    \n",
    "    emojis = humor_2_emoji[classes[prediction_rf[idx]]]\n",
    "    \n",
    "    true_emojis = humor_2_emoji[classes[y_test[idx]]]\n",
    "    print(X_test['sms'].values[idx], '(Pred)', emojis, '(True)', true_emojis, '\\n')"
   ]
  }
 ],
 "metadata": {
  "colab": {
   "collapsed_sections": [],
   "name": "projet.ipynb",
   "provenance": [],
   "toc_visible": true
  },
  "kernelspec": {
   "display_name": "Python 3",
   "language": "python",
   "name": "python3"
  },
  "language_info": {
   "codemirror_mode": {
    "name": "ipython",
    "version": 3
   },
   "file_extension": ".py",
   "mimetype": "text/x-python",
   "name": "python",
   "nbconvert_exporter": "python",
   "pygments_lexer": "ipython3",
   "version": "3.8.5"
  }
 },
 "nbformat": 4,
 "nbformat_minor": 1
}
